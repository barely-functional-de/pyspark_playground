{
 "cells": [
  {
   "cell_type": "code",
   "execution_count": 2,
   "id": "8a2af296",
   "metadata": {},
   "outputs": [],
   "source": [
    "import pyspark\n",
    "from pyspark.sql import SparkSession\n",
    "from pyspark.sql import functions as f\n",
    "from pyspark.sql import types as t"
   ]
  },
  {
   "cell_type": "code",
   "execution_count": 3,
   "id": "3aa3a19f",
   "metadata": {},
   "outputs": [
    {
     "name": "stderr",
     "output_type": "stream",
     "text": [
      "24/05/04 17:53:17 WARN Utils: Your hostname, codespaces-0d4183 resolves to a loopback address: 127.0.0.1; using 172.16.5.4 instead (on interface eth0)\n",
      "24/05/04 17:53:17 WARN Utils: Set SPARK_LOCAL_IP if you need to bind to another address\n",
      "Setting default log level to \"WARN\".\n",
      "To adjust logging level use sc.setLogLevel(newLevel). For SparkR, use setLogLevel(newLevel).\n",
      "24/05/04 17:53:18 WARN NativeCodeLoader: Unable to load native-hadoop library for your platform... using builtin-java classes where applicable\n",
      "24/05/04 17:53:30 WARN GarbageCollectionMetrics: To enable non-built-in garbage collector(s) List(G1 Concurrent GC), users should configure it(them) to spark.eventLog.gcMetrics.youngGenerationGarbageCollectors or spark.eventLog.gcMetrics.oldGenerationGarbageCollectors\n"
     ]
    }
   ],
   "source": [
    "spark = (\n",
    "    SparkSession\n",
    "    .builder\n",
    "    .appName(\"Electronic Sales Data\")\n",
    "    .master(\"local[*]\")\n",
    "    .config(\"spark.sql.adaptive.enabled\", \"true\")\n",
    "    .getOrCreate()\n",
    ")"
   ]
  },
  {
   "cell_type": "code",
   "execution_count": 4,
   "id": "30ffb8c1",
   "metadata": {},
   "outputs": [
    {
     "name": "stdout",
     "output_type": "stream",
     "text": [
      "+----------+---+-----------+-----+-----+----------+------------+\n",
      "|      date| id|category_id|sales|views|price_cost|price_retail|\n",
      "+----------+---+-----------+-----+-----+----------+------------+\n",
      "|2022-02-24|  1|          3|    0|    0|         0|           0|\n",
      "|2022-02-25|  1|          3|    0|    0|         0|           0|\n",
      "|2022-02-26|  1|          3|    0|    0|         0|           0|\n",
      "|2022-02-27|  1|          3|    0|    0|         0|           0|\n",
      "|2022-02-28|  1|          3|    0|    0|         0|           0|\n",
      "+----------+---+-----------+-----+-----+----------+------------+\n",
      "only showing top 5 rows\n",
      "\n"
     ]
    }
   ],
   "source": [
    "electronic_sales_df = (\n",
    "    spark.read\n",
    "    .option(\"header\", \"true\")\n",
    "    .csv(\"../input_data/sales.csv\")\n",
    ")\n",
    "electronic_sales_df.show(5)"
   ]
  },
  {
   "cell_type": "code",
   "execution_count": 6,
   "id": "1323c961",
   "metadata": {},
   "outputs": [
    {
     "name": "stdout",
     "output_type": "stream",
     "text": [
      "root\n",
      " |-- date: string (nullable = true)\n",
      " |-- id: string (nullable = true)\n",
      " |-- category_id: string (nullable = true)\n",
      " |-- sales: string (nullable = true)\n",
      " |-- views: string (nullable = true)\n",
      " |-- price_cost: string (nullable = true)\n",
      " |-- price_retail: string (nullable = true)\n",
      "\n"
     ]
    }
   ],
   "source": [
    "electronic_sales_df.printSchema()"
   ]
  },
  {
   "cell_type": "code",
   "execution_count": 8,
   "id": "45f19c62",
   "metadata": {},
   "outputs": [
    {
     "name": "stderr",
     "output_type": "stream",
     "text": [
      "                                                                                \r"
     ]
    },
    {
     "data": {
      "text/plain": [
       "2548824"
      ]
     },
     "execution_count": 8,
     "metadata": {},
     "output_type": "execute_result"
    }
   ],
   "source": [
    "electronic_sales_df.count()"
   ]
  },
  {
   "cell_type": "markdown",
   "id": "541ff4ef",
   "metadata": {},
   "source": [
    "## Easy Level"
   ]
  },
  {
   "cell_type": "markdown",
   "id": "3249cb55",
   "metadata": {},
   "source": [
    "### Basic Aggregation:"
   ]
  },
  {
   "cell_type": "code",
   "execution_count": 13,
   "id": "cfa7cd7f",
   "metadata": {},
   "outputs": [
    {
     "name": "stderr",
     "output_type": "stream",
     "text": [
      "\r",
      "[Stage 14:>                                                         (0 + 2) / 2]\r"
     ]
    },
    {
     "name": "stdout",
     "output_type": "stream",
     "text": [
      "+-----------+------------------+----------+\n",
      "|category_id|        avg(views)|sum(sales)|\n",
      "+-----------+------------------+----------+\n",
      "|          3| 42.06166696912871|   73233.0|\n",
      "|          1| 42.66659622361947|  127308.0|\n",
      "|          4| 36.96256830601093|     656.0|\n",
      "|          2|32.377772201776885|  743416.0|\n",
      "+-----------+------------------+----------+\n",
      "\n"
     ]
    },
    {
     "name": "stderr",
     "output_type": "stream",
     "text": [
      "\r",
      "[Stage 14:=============================>                            (1 + 1) / 2]\r",
      "\r",
      "                                                                                \r"
     ]
    }
   ],
   "source": [
    "# Find the total sales for each category.\n",
    "# Calculate the average views per category.\n",
    "\n",
    "total_sales_per_category_df = (\n",
    "    electronic_sales_df\n",
    "    .groupBy('category_id')\n",
    "    .agg({\"views\":\"avg\",\n",
    "          \"sales\":\"sum\",\n",
    "         }\n",
    "        )\n",
    ")\n",
    "total_sales_per_category_df.show()"
   ]
  },
  {
   "cell_type": "code",
   "execution_count": 20,
   "id": "6dafffdb",
   "metadata": {},
   "outputs": [
    {
     "name": "stderr",
     "output_type": "stream",
     "text": [
      "[Stage 24:=============================>                            (1 + 1) / 2]\r"
     ]
    },
    {
     "name": "stdout",
     "output_type": "stream",
     "text": [
      "+-----------+-----------------+\n",
      "|category_id|max(price_retail)|\n",
      "+-----------+-----------------+\n",
      "|          4|         759077.0|\n",
      "|          1|         300957.0|\n",
      "|          2|          62401.0|\n",
      "|          3|          10878.0|\n",
      "+-----------+-----------------+\n",
      "\n"
     ]
    },
    {
     "name": "stderr",
     "output_type": "stream",
     "text": [
      "\r",
      "                                                                                \r"
     ]
    }
   ],
   "source": [
    "# What is the maximum retail price among all products?\n",
    "max_retail_price_df = (\n",
    "    electronic_sales_df\n",
    "    .withColumn('price_retail', f.col('price_retail').cast(t.FloatType()))\n",
    "    .groupBy('category_id')\n",
    "    .agg(f.max('price_retail'))\n",
    "    .orderBy(f.desc('max(price_retail)'))\n",
    ")\n",
    "max_retail_price_df.show(5)"
   ]
  },
  {
   "cell_type": "markdown",
   "id": "7ad10641",
   "metadata": {},
   "source": [
    "### Data Cleaning:"
   ]
  },
  {
   "cell_type": "code",
   "execution_count": 41,
   "id": "c4d411e5",
   "metadata": {
    "scrolled": true
   },
   "outputs": [
    {
     "name": "stderr",
     "output_type": "stream",
     "text": [
      "[Stage 148:>                                                        (0 + 2) / 2]\r"
     ]
    },
    {
     "name": "stdout",
     "output_type": "stream",
     "text": [
      "Column date \t null_count:0 \n",
      "Column id \t null_count:0 \n",
      "Column category_id \t null_count:0 \n",
      "Column sales \t null_count:0 \n",
      "Column views \t null_count:0 \n",
      "Column price_cost \t null_count:0 \n",
      "Column price_retail \t null_count:0 \n"
     ]
    },
    {
     "name": "stderr",
     "output_type": "stream",
     "text": [
      "\r",
      "[Stage 148:============================>                            (1 + 1) / 2]\r",
      "\r",
      "                                                                                \r"
     ]
    }
   ],
   "source": [
    "# Check for null values in each column.\n",
    "\n",
    "columns = electronic_sales_df.columns\n",
    "\n",
    "null_columns_comprehensive_list = [(c, electronic_sales_df.filter(f.col(c).isNull()).count()) for c in columns]\n",
    "\n",
    "for column, count in null_columns_comprehensive_list:\n",
    "    print(f\"Column {column} \\t null_count:{count} \")\n"
   ]
  },
  {
   "cell_type": "code",
   "execution_count": 25,
   "id": "e592988e",
   "metadata": {
    "scrolled": false
   },
   "outputs": [
    {
     "name": "stdout",
     "output_type": "stream",
     "text": [
      "+----------+---+-----------+-----+-----+----------+------------+----------+\n",
      "|      date| id|category_id|sales|views|price_cost|price_retail|  new_date|\n",
      "+----------+---+-----------+-----+-----+----------+------------+----------+\n",
      "|2022-02-24|  1|          3|    0|    0|       0.0|         0.0|2022-02-24|\n",
      "|2022-02-25|  1|          3|    0|    0|       0.0|         0.0|2022-02-25|\n",
      "|2022-02-26|  1|          3|    0|    0|       0.0|         0.0|2022-02-26|\n",
      "|2022-02-27|  1|          3|    0|    0|       0.0|         0.0|2022-02-27|\n",
      "|2022-02-28|  1|          3|    0|    0|       0.0|         0.0|2022-02-28|\n",
      "+----------+---+-----------+-----+-----+----------+------------+----------+\n",
      "only showing top 5 rows\n",
      "\n"
     ]
    }
   ],
   "source": [
    "# Convert the date column to a proper date format.\n",
    "# Convert the sales, views, price_cost, and price_retail columns to numeric types.\n",
    "cleaned_df = (\n",
    "    electronic_sales_df\n",
    "    .withColumn('new_date', f.col('date').cast(t.DateType()))\n",
    "    .withColumn('sales', f.col('sales').cast(t.IntegerType()))\n",
    "    .withColumn('views', f.col('views').cast(t.IntegerType()))\n",
    "    .withColumn('price_cost', f.col('price_cost').cast(t.FloatType()))\n",
    "    .withColumn('price_retail', f.col('price_retail').cast(t.FloatType()))\n",
    ")\n",
    "cleaned_df.show(5)"
   ]
  },
  {
   "cell_type": "code",
   "execution_count": 26,
   "id": "7745fd4c",
   "metadata": {},
   "outputs": [
    {
     "name": "stdout",
     "output_type": "stream",
     "text": [
      "root\n",
      " |-- date: string (nullable = true)\n",
      " |-- id: string (nullable = true)\n",
      " |-- category_id: string (nullable = true)\n",
      " |-- sales: integer (nullable = true)\n",
      " |-- views: integer (nullable = true)\n",
      " |-- price_cost: float (nullable = true)\n",
      " |-- price_retail: float (nullable = true)\n",
      " |-- new_date: date (nullable = true)\n",
      "\n"
     ]
    }
   ],
   "source": [
    "cleaned_df.printSchema()"
   ]
  },
  {
   "cell_type": "markdown",
   "id": "200547f7",
   "metadata": {},
   "source": [
    "### Filtering:"
   ]
  },
  {
   "cell_type": "code",
   "execution_count": 33,
   "id": "807387e5",
   "metadata": {},
   "outputs": [
    {
     "name": "stderr",
     "output_type": "stream",
     "text": [
      "[Stage 43:=============================>                            (1 + 1) / 2]\r"
     ]
    },
    {
     "data": {
      "text/plain": [
       "194358"
      ]
     },
     "execution_count": 33,
     "metadata": {},
     "output_type": "execute_result"
    },
    {
     "name": "stderr",
     "output_type": "stream",
     "text": [
      "\r",
      "                                                                                \r"
     ]
    }
   ],
   "source": [
    "# Filter the dataset to include only rows where sales are greater than 0.\n",
    "# Remove rows where views are null.\n",
    "sales_greater_than_0_df = (\n",
    "    cleaned_df\n",
    "    .filter((f.col('sales')>0) \n",
    "            & (f.col('views').isNotNull())\n",
    "           )\n",
    ")\n",
    "sales_greater_than_0_df.count()"
   ]
  },
  {
   "cell_type": "code",
   "execution_count": null,
   "id": "a146f154",
   "metadata": {},
   "outputs": [],
   "source": []
  }
 ],
 "metadata": {
  "kernelspec": {
   "display_name": "Python 3 (ipykernel)",
   "language": "python",
   "name": "python3"
  },
  "language_info": {
   "codemirror_mode": {
    "name": "ipython",
    "version": 3
   },
   "file_extension": ".py",
   "mimetype": "text/x-python",
   "name": "python",
   "nbconvert_exporter": "python",
   "pygments_lexer": "ipython3",
   "version": "3.11.5"
  }
 },
 "nbformat": 4,
 "nbformat_minor": 5
}

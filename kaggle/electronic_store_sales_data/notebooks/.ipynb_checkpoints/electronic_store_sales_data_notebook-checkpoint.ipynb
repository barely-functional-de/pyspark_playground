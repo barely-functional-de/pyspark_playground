{
 "cells": [
  {
   "cell_type": "code",
   "execution_count": 42,
   "id": "68c92703",
   "metadata": {},
   "outputs": [],
   "source": [
    "import pyspark\n",
    "from pyspark.sql import SparkSession\n",
    "from pyspark.sql import functions as f\n",
    "from pyspark.sql import types as t\n",
    "from pyspark.sql.window import Window"
   ]
  },
  {
   "cell_type": "code",
   "execution_count": 3,
   "id": "4b6bb1e1",
   "metadata": {},
   "outputs": [
    {
     "name": "stderr",
     "output_type": "stream",
     "text": [
      "24/05/04 17:53:17 WARN Utils: Your hostname, codespaces-0d4183 resolves to a loopback address: 127.0.0.1; using 172.16.5.4 instead (on interface eth0)\n",
      "24/05/04 17:53:17 WARN Utils: Set SPARK_LOCAL_IP if you need to bind to another address\n",
      "Setting default log level to \"WARN\".\n",
      "To adjust logging level use sc.setLogLevel(newLevel). For SparkR, use setLogLevel(newLevel).\n",
      "24/05/04 17:53:18 WARN NativeCodeLoader: Unable to load native-hadoop library for your platform... using builtin-java classes where applicable\n",
      "24/05/04 17:53:30 WARN GarbageCollectionMetrics: To enable non-built-in garbage collector(s) List(G1 Concurrent GC), users should configure it(them) to spark.eventLog.gcMetrics.youngGenerationGarbageCollectors or spark.eventLog.gcMetrics.oldGenerationGarbageCollectors\n"
     ]
    }
   ],
   "source": [
    "spark = (\n",
    "    SparkSession\n",
    "    .builder\n",
    "    .appName(\"Electronic Sales Data\")\n",
    "    .master(\"local[*]\")\n",
    "    .config(\"spark.sql.adaptive.enabled\", \"true\")\n",
    "    .getOrCreate()\n",
    ")"
   ]
  },
  {
   "cell_type": "code",
   "execution_count": 4,
   "id": "a6ee358d",
   "metadata": {},
   "outputs": [
    {
     "name": "stdout",
     "output_type": "stream",
     "text": [
      "+----------+---+-----------+-----+-----+----------+------------+\n",
      "|      date| id|category_id|sales|views|price_cost|price_retail|\n",
      "+----------+---+-----------+-----+-----+----------+------------+\n",
      "|2022-02-24|  1|          3|    0|    0|         0|           0|\n",
      "|2022-02-25|  1|          3|    0|    0|         0|           0|\n",
      "|2022-02-26|  1|          3|    0|    0|         0|           0|\n",
      "|2022-02-27|  1|          3|    0|    0|         0|           0|\n",
      "|2022-02-28|  1|          3|    0|    0|         0|           0|\n",
      "+----------+---+-----------+-----+-----+----------+------------+\n",
      "only showing top 5 rows\n",
      "\n"
     ]
    }
   ],
   "source": [
    "electronic_sales_df = (\n",
    "    spark.read\n",
    "    .option(\"header\", \"true\")\n",
    "    .csv(\"../input_data/sales.csv\")\n",
    ")\n",
    "electronic_sales_df.show(5)"
   ]
  },
  {
   "cell_type": "code",
   "execution_count": 6,
   "id": "c67776f3",
   "metadata": {},
   "outputs": [
    {
     "name": "stdout",
     "output_type": "stream",
     "text": [
      "root\n",
      " |-- date: string (nullable = true)\n",
      " |-- id: string (nullable = true)\n",
      " |-- category_id: string (nullable = true)\n",
      " |-- sales: string (nullable = true)\n",
      " |-- views: string (nullable = true)\n",
      " |-- price_cost: string (nullable = true)\n",
      " |-- price_retail: string (nullable = true)\n",
      "\n"
     ]
    }
   ],
   "source": [
    "electronic_sales_df.printSchema()"
   ]
  },
  {
   "cell_type": "code",
   "execution_count": 8,
   "id": "d210e985",
   "metadata": {},
   "outputs": [
    {
     "name": "stderr",
     "output_type": "stream",
     "text": [
      "                                                                                \r"
     ]
    },
    {
     "data": {
      "text/plain": [
       "2548824"
      ]
     },
     "execution_count": 8,
     "metadata": {},
     "output_type": "execute_result"
    }
   ],
   "source": [
    "electronic_sales_df.count()"
   ]
  },
  {
   "cell_type": "markdown",
   "id": "8726f603",
   "metadata": {},
   "source": [
    "## Easy Level"
   ]
  },
  {
   "cell_type": "markdown",
   "id": "9a786b38",
   "metadata": {},
   "source": [
    "### Basic Aggregation:"
   ]
  },
  {
   "cell_type": "code",
   "execution_count": 13,
   "id": "d5931079",
   "metadata": {},
   "outputs": [
    {
     "name": "stderr",
     "output_type": "stream",
     "text": [
      "\r",
      "[Stage 14:>                                                         (0 + 2) / 2]\r"
     ]
    },
    {
     "name": "stdout",
     "output_type": "stream",
     "text": [
      "+-----------+------------------+----------+\n",
      "|category_id|        avg(views)|sum(sales)|\n",
      "+-----------+------------------+----------+\n",
      "|          3| 42.06166696912871|   73233.0|\n",
      "|          1| 42.66659622361947|  127308.0|\n",
      "|          4| 36.96256830601093|     656.0|\n",
      "|          2|32.377772201776885|  743416.0|\n",
      "+-----------+------------------+----------+\n",
      "\n"
     ]
    },
    {
     "name": "stderr",
     "output_type": "stream",
     "text": [
      "\r",
      "[Stage 14:=============================>                            (1 + 1) / 2]\r",
      "\r",
      "                                                                                \r"
     ]
    }
   ],
   "source": [
    "# Find the total sales for each category.\n",
    "# Calculate the average views per category.\n",
    "\n",
    "total_sales_per_category_df = (\n",
    "    electronic_sales_df\n",
    "    .groupBy('category_id')\n",
    "    .agg({\"views\":\"avg\",\n",
    "          \"sales\":\"sum\",\n",
    "         }\n",
    "        )\n",
    ")\n",
    "total_sales_per_category_df.show()"
   ]
  },
  {
   "cell_type": "code",
   "execution_count": 20,
   "id": "2c0f3e63",
   "metadata": {},
   "outputs": [
    {
     "name": "stderr",
     "output_type": "stream",
     "text": [
      "[Stage 24:=============================>                            (1 + 1) / 2]\r"
     ]
    },
    {
     "name": "stdout",
     "output_type": "stream",
     "text": [
      "+-----------+-----------------+\n",
      "|category_id|max(price_retail)|\n",
      "+-----------+-----------------+\n",
      "|          4|         759077.0|\n",
      "|          1|         300957.0|\n",
      "|          2|          62401.0|\n",
      "|          3|          10878.0|\n",
      "+-----------+-----------------+\n",
      "\n"
     ]
    },
    {
     "name": "stderr",
     "output_type": "stream",
     "text": [
      "\r",
      "                                                                                \r"
     ]
    }
   ],
   "source": [
    "# What is the maximum retail price among all products?\n",
    "max_retail_price_df = (\n",
    "    electronic_sales_df\n",
    "    .withColumn('price_retail', f.col('price_retail').cast(t.FloatType()))\n",
    "    .groupBy('category_id')\n",
    "    .agg(f.max('price_retail'))\n",
    "    .orderBy(f.desc('max(price_retail)'))\n",
    ")\n",
    "max_retail_price_df.show(5)"
   ]
  },
  {
   "cell_type": "markdown",
   "id": "613dd1b2",
   "metadata": {},
   "source": [
    "### Data Cleaning:"
   ]
  },
  {
   "cell_type": "code",
   "execution_count": 41,
   "id": "37668d0a",
   "metadata": {
    "scrolled": true
   },
   "outputs": [
    {
     "name": "stderr",
     "output_type": "stream",
     "text": [
      "[Stage 148:>                                                        (0 + 2) / 2]\r"
     ]
    },
    {
     "name": "stdout",
     "output_type": "stream",
     "text": [
      "Column date \t null_count:0 \n",
      "Column id \t null_count:0 \n",
      "Column category_id \t null_count:0 \n",
      "Column sales \t null_count:0 \n",
      "Column views \t null_count:0 \n",
      "Column price_cost \t null_count:0 \n",
      "Column price_retail \t null_count:0 \n"
     ]
    },
    {
     "name": "stderr",
     "output_type": "stream",
     "text": [
      "\r",
      "[Stage 148:============================>                            (1 + 1) / 2]\r",
      "\r",
      "                                                                                \r"
     ]
    }
   ],
   "source": [
    "# Check for null values in each column.\n",
    "\n",
    "columns = electronic_sales_df.columns\n",
    "\n",
    "null_columns_comprehensive_list = [(c, electronic_sales_df.filter(f.col(c).isNull()).count()) for c in columns]\n",
    "\n",
    "for column, count in null_columns_comprehensive_list:\n",
    "    print(f\"Column {column} \\t null_count:{count} \")\n"
   ]
  },
  {
   "cell_type": "code",
   "execution_count": 25,
   "id": "c39fadae",
   "metadata": {
    "scrolled": false
   },
   "outputs": [
    {
     "name": "stdout",
     "output_type": "stream",
     "text": [
      "+----------+---+-----------+-----+-----+----------+------------+----------+\n",
      "|      date| id|category_id|sales|views|price_cost|price_retail|  new_date|\n",
      "+----------+---+-----------+-----+-----+----------+------------+----------+\n",
      "|2022-02-24|  1|          3|    0|    0|       0.0|         0.0|2022-02-24|\n",
      "|2022-02-25|  1|          3|    0|    0|       0.0|         0.0|2022-02-25|\n",
      "|2022-02-26|  1|          3|    0|    0|       0.0|         0.0|2022-02-26|\n",
      "|2022-02-27|  1|          3|    0|    0|       0.0|         0.0|2022-02-27|\n",
      "|2022-02-28|  1|          3|    0|    0|       0.0|         0.0|2022-02-28|\n",
      "+----------+---+-----------+-----+-----+----------+------------+----------+\n",
      "only showing top 5 rows\n",
      "\n"
     ]
    }
   ],
   "source": [
    "# Convert the date column to a proper date format.\n",
    "# Convert the sales, views, price_cost, and price_retail columns to numeric types.\n",
    "cleaned_df = (\n",
    "    electronic_sales_df\n",
    "    .withColumn('new_date', f.col('date').cast(t.DateType()))\n",
    "    .withColumn('sales', f.col('sales').cast(t.IntegerType()))\n",
    "    .withColumn('views', f.col('views').cast(t.IntegerType()))\n",
    "    .withColumn('price_cost', f.col('price_cost').cast(t.FloatType()))\n",
    "    .withColumn('price_retail', f.col('price_retail').cast(t.FloatType()))\n",
    ")\n",
    "cleaned_df.show(5)"
   ]
  },
  {
   "cell_type": "code",
   "execution_count": 26,
   "id": "ecd2b4ca",
   "metadata": {},
   "outputs": [
    {
     "name": "stdout",
     "output_type": "stream",
     "text": [
      "root\n",
      " |-- date: string (nullable = true)\n",
      " |-- id: string (nullable = true)\n",
      " |-- category_id: string (nullable = true)\n",
      " |-- sales: integer (nullable = true)\n",
      " |-- views: integer (nullable = true)\n",
      " |-- price_cost: float (nullable = true)\n",
      " |-- price_retail: float (nullable = true)\n",
      " |-- new_date: date (nullable = true)\n",
      "\n"
     ]
    }
   ],
   "source": [
    "cleaned_df.printSchema()"
   ]
  },
  {
   "cell_type": "markdown",
   "id": "bbca5116",
   "metadata": {},
   "source": [
    "### Filtering:"
   ]
  },
  {
   "cell_type": "code",
   "execution_count": 33,
   "id": "17b269db",
   "metadata": {},
   "outputs": [
    {
     "name": "stderr",
     "output_type": "stream",
     "text": [
      "[Stage 43:=============================>                            (1 + 1) / 2]\r"
     ]
    },
    {
     "data": {
      "text/plain": [
       "194358"
      ]
     },
     "execution_count": 33,
     "metadata": {},
     "output_type": "execute_result"
    },
    {
     "name": "stderr",
     "output_type": "stream",
     "text": [
      "\r",
      "                                                                                \r"
     ]
    }
   ],
   "source": [
    "# Filter the dataset to include only rows where sales are greater than 0.\n",
    "# Remove rows where views are null.\n",
    "sales_greater_than_0_df = (\n",
    "    cleaned_df\n",
    "    .filter((f.col('sales')>0) \n",
    "            & (f.col('views').isNotNull())\n",
    "           )\n",
    ")\n",
    "sales_greater_than_0_df.count()"
   ]
  },
  {
   "cell_type": "markdown",
   "id": "c2472919",
   "metadata": {},
   "source": [
    "## Medium Level"
   ]
  },
  {
   "cell_type": "markdown",
   "id": "5c770280",
   "metadata": {},
   "source": [
    "### Window Functions:"
   ]
  },
  {
   "cell_type": "code",
   "execution_count": 43,
   "id": "6ec70d25",
   "metadata": {},
   "outputs": [
    {
     "name": "stderr",
     "output_type": "stream",
     "text": [
      "[Stage 153:>                                                        (0 + 1) / 1]\r"
     ]
    },
    {
     "name": "stdout",
     "output_type": "stream",
     "text": [
      "+----------+---+-----------+-----+-----+----------+------------+----------+--------------+\n",
      "|      date| id|category_id|sales|views|price_cost|price_retail|  new_date|cumulative_sum|\n",
      "+----------+---+-----------+-----+-----+----------+------------+----------+--------------+\n",
      "|2022-02-24|  1|          3|    0|    0|       0.0|         0.0|2022-02-24|            33|\n",
      "|2022-02-24|  5|          3|    0|    0|       0.0|         0.0|2022-02-24|            33|\n",
      "|2022-02-24| 16|          3|    0|    0|       0.0|         0.0|2022-02-24|            33|\n",
      "|2022-02-24| 34|          3|    4|  307|     859.0|      1647.0|2022-02-24|            33|\n",
      "|2022-02-24| 37|          3|    0|    0|       0.0|         0.0|2022-02-24|            33|\n",
      "|2022-02-24| 49|          3|    0|    0|       0.0|         0.0|2022-02-24|            33|\n",
      "|2022-02-24| 58|          3|    0|    0|       0.0|         0.0|2022-02-24|            33|\n",
      "|2022-02-24| 61|          3|    0|    0|       0.0|         0.0|2022-02-24|            33|\n",
      "|2022-02-24| 63|          3|    0|    0|       0.0|         0.0|2022-02-24|            33|\n",
      "|2022-02-24| 72|          3|    0|    0|       0.0|         0.0|2022-02-24|            33|\n",
      "|2022-02-24| 79|          3|    0|   46|    1115.0|      2137.0|2022-02-24|            33|\n",
      "|2022-02-24| 87|          3|    0|   29|     163.0|       572.0|2022-02-24|            33|\n",
      "|2022-02-24| 90|          3|    0|    0|       0.0|         0.0|2022-02-24|            33|\n",
      "|2022-02-24| 99|          3|    0|   16|    1749.0|      3326.0|2022-02-24|            33|\n",
      "|2022-02-24|102|          3|    0|    0|       0.0|         0.0|2022-02-24|            33|\n",
      "|2022-02-24|130|          3|    0|    0|       0.0|         0.0|2022-02-24|            33|\n",
      "|2022-02-24|144|          3|    0|    0|       0.0|         0.0|2022-02-24|            33|\n",
      "|2022-02-24|182|          3|    0|    0|       0.0|         0.0|2022-02-24|            33|\n",
      "|2022-02-24|218|          3|    0|    0|       0.0|         0.0|2022-02-24|            33|\n",
      "|2022-02-24|231|          3|    0|    0|       0.0|         0.0|2022-02-24|            33|\n",
      "+----------+---+-----------+-----+-----+----------+------------+----------+--------------+\n",
      "only showing top 20 rows\n",
      "\n"
     ]
    },
    {
     "name": "stderr",
     "output_type": "stream",
     "text": [
      "\r",
      "                                                                                \r"
     ]
    }
   ],
   "source": [
    "# Calculate the cumulative sum of sales for each category ordered by date.\n",
    "window_spec = Window.partitionBy('category_id').orderBy('new_date')\n",
    "\n",
    "cumulative_sales_df = (\n",
    "    cleaned_df\n",
    "    .withColumn('cumulative_sum', f.sum('sales').over(window_spec))\n",
    ")\n",
    "cumulative_sales_df.show()"
   ]
  },
  {
   "cell_type": "code",
   "execution_count": 45,
   "id": "0db1dd2b",
   "metadata": {},
   "outputs": [
    {
     "name": "stderr",
     "output_type": "stream",
     "text": [
      "[Stage 159:>                                                        (0 + 1) / 1]\r"
     ]
    },
    {
     "name": "stdout",
     "output_type": "stream",
     "text": [
      "+----------+----+-----------+-----+-----+----------+------------+----------+----+\n",
      "|      date|  id|category_id|sales|views|price_cost|price_retail|  new_date|rank|\n",
      "+----------+----+-----------+-----+-----+----------+------------+----------+----+\n",
      "|2023-10-03|2267|          3|  154| 9338|     958.0|      1245.0|2023-10-03|   1|\n",
      "|2023-04-14|1661|          3|  125| 1631|    1273.0|      1654.0|2023-04-14|   2|\n",
      "|2023-09-13|2267|          3|  119| 1800|     958.0|      1245.0|2023-09-13|   3|\n",
      "|2023-09-05|2267|          3|  115| 1392|     958.0|      1245.0|2023-09-05|   4|\n",
      "|2023-04-02|1661|          3|  114| 2477|    1273.0|      1654.0|2023-04-02|   5|\n",
      "|2023-05-24|1661|          3|  112| 1006|    1273.0|      1654.0|2023-05-24|   6|\n",
      "|2023-04-13|2267|          3|  105| 1294|     958.0|      1245.0|2023-04-13|   7|\n",
      "|2023-10-17|2267|          3|  104|  930|     958.0|      1245.0|2023-10-17|   8|\n",
      "|2023-03-30|1661|          3|  103|23091|    1273.0|      1654.0|2023-03-30|   9|\n",
      "|2023-02-13|1661|          3|  103|28541|    1273.0|      1654.0|2023-02-13|  10|\n",
      "|2023-04-27|1661|          3|  100|12677|    1273.0|      1654.0|2023-04-27|  11|\n",
      "|2023-09-26|2267|          3|   98| 9399|     958.0|      1245.0|2023-09-26|  12|\n",
      "|2023-09-12|2267|          3|   98| 1370|     958.0|      1245.0|2023-09-12|  13|\n",
      "|2023-10-10|2267|          3|   94| 1009|     958.0|      1245.0|2023-10-10|  14|\n",
      "|2023-04-11|1661|          3|   94| 2072|    1273.0|      1654.0|2023-04-11|  15|\n",
      "|2023-04-09|1661|          3|   94| 1680|    1273.0|      1654.0|2023-04-09|  16|\n",
      "|2023-09-11|2267|          3|   92| 1182|     958.0|      1245.0|2023-09-11|  17|\n",
      "|2023-02-10|1661|          3|   89|28560|    1273.0|      1654.0|2023-02-10|  18|\n",
      "|2023-10-01|2267|          3|   88| 1264|     958.0|      1245.0|2023-10-01|  19|\n",
      "|2023-09-27|2267|          3|   88| 9044|     958.0|      1245.0|2023-09-27|  20|\n",
      "+----------+----+-----------+-----+-----+----------+------------+----------+----+\n",
      "only showing top 20 rows\n",
      "\n"
     ]
    },
    {
     "name": "stderr",
     "output_type": "stream",
     "text": [
      "\r",
      "                                                                                \r"
     ]
    }
   ],
   "source": [
    "# Rank products based on their sales within each category.\n",
    "window_spec = Window.partitionBy('category_id').orderBy(f.desc('sales'), f.desc('new_date'))\n",
    "product_rank_df = (\n",
    "    cleaned_df\n",
    "    .withColumn('rank', f.rank().over(window_spec))\n",
    ")\n",
    "product_rank_df.show()"
   ]
  },
  {
   "cell_type": "code",
   "execution_count": 47,
   "id": "63464cfa",
   "metadata": {},
   "outputs": [
    {
     "name": "stderr",
     "output_type": "stream",
     "text": [
      "[Stage 162:>                                                        (0 + 1) / 1]\r"
     ]
    },
    {
     "name": "stdout",
     "output_type": "stream",
     "text": [
      "+----------+---+-----------+-----+-----+----------+------------+----------+--------------+----------------+\n",
      "|      date| id|category_id|sales|views|price_cost|price_retail|  new_date|previous_sales|sales_difference|\n",
      "+----------+---+-----------+-----+-----+----------+------------+----------+--------------+----------------+\n",
      "|2022-02-24|100|          1|    0|    6|   88080.0|    151300.0|2022-02-24|          NULL|            NULL|\n",
      "|2022-02-25|100|          1|    0|    6|   88080.0|    146200.0|2022-02-25|             0|               0|\n",
      "|2022-02-26|100|          1|    0|   11|   88080.0|    146200.0|2022-02-26|             0|               0|\n",
      "|2022-02-27|100|          1|    0|    9|   88080.0|    146200.0|2022-02-27|             0|               0|\n",
      "|2022-02-28|100|          1|    0|    5|   88080.0|    146200.0|2022-02-28|             0|               0|\n",
      "|2022-03-01|100|          1|    0|    5|   88080.0|    146200.0|2022-03-01|             0|               0|\n",
      "|2022-03-02|100|          1|    0|    7|   88080.0|    146200.0|2022-03-02|             0|               0|\n",
      "|2022-03-03|100|          1|    0|    6|   88080.0|    146200.0|2022-03-03|             0|               0|\n",
      "|2022-03-04|100|          1|    0|    8|  109656.0|    146200.0|2022-03-04|             0|               0|\n",
      "|2022-03-05|100|          1|    0|    6|  109656.0|    163744.0|2022-03-05|             0|               0|\n",
      "|2022-03-06|100|          1|    0|   10|  109656.0|    163744.0|2022-03-06|             0|               0|\n",
      "|2022-03-07|100|          1|    0|   24|  109656.0|    163744.0|2022-03-07|             0|               0|\n",
      "|2022-03-08|100|          1|    0|    9|  109656.0|    163744.0|2022-03-08|             0|               0|\n",
      "|2022-03-09|100|          1|    1|   17|  109656.0|    146200.0|2022-03-09|             0|               1|\n",
      "|2022-03-10|100|          1|    0|   15|  109656.0|    146200.0|2022-03-10|             1|              -1|\n",
      "|2022-03-11|100|          1|    0|   11|  109656.0|    146200.0|2022-03-11|             0|               0|\n",
      "|2022-03-12|100|          1|    0|   12|  109656.0|    146200.0|2022-03-12|             0|               0|\n",
      "|2022-03-13|100|          1|    1|   20|  109656.0|    146200.0|2022-03-13|             0|               1|\n",
      "|2022-03-14|100|          1|    0|   20|  109656.0|    146200.0|2022-03-14|             1|              -1|\n",
      "|2022-03-15|100|          1|    0|   17|  109656.0|    146200.0|2022-03-15|             0|               0|\n",
      "+----------+---+-----------+-----+-----+----------+------------+----------+--------------+----------------+\n",
      "only showing top 20 rows\n",
      "\n"
     ]
    },
    {
     "name": "stderr",
     "output_type": "stream",
     "text": [
      "\r",
      "                                                                                \r"
     ]
    }
   ],
   "source": [
    "# Find the difference between the current row's sales and the previous row's sales for each product, ordered by date.\n",
    "window_spec = Window.partitionBy('id').orderBy('new_date')\n",
    "sales_diff_df = (\n",
    "    cleaned_df\n",
    "    .withColumn('previous_sales', f.lag('sales').over(window_spec))\n",
    "    .withColumn('sales_difference', f.col('sales') - f.col('previous_sales'))\n",
    ")\n",
    "\n",
    "sales_diff_df.show()"
   ]
  },
  {
   "cell_type": "markdown",
   "id": "078d016f",
   "metadata": {},
   "source": [
    "### UDF:"
   ]
  },
  {
   "cell_type": "code",
   "execution_count": 49,
   "id": "d052f4d1",
   "metadata": {},
   "outputs": [
    {
     "name": "stderr",
     "output_type": "stream",
     "text": [
      "[Stage 163:============================>                            (1 + 1) / 2]\r"
     ]
    },
    {
     "name": "stdout",
     "output_type": "stream",
     "text": [
      "+----+-----------------+\n",
      "|  id|net_profit_margin|\n",
      "+----+-----------------+\n",
      "| 296|        1966136.0|\n",
      "| 467|        8695091.0|\n",
      "| 675|        4787571.0|\n",
      "| 691|         369209.0|\n",
      "| 829|          32685.0|\n",
      "|1090|        1828133.0|\n",
      "|1159|         334063.0|\n",
      "|1436|          55648.0|\n",
      "|1512|        3667760.0|\n",
      "|1572|          43472.0|\n",
      "| 125|          19497.0|\n",
      "| 451|        7225119.0|\n",
      "| 800|        1298541.0|\n",
      "| 853|          87542.0|\n",
      "| 944|      1.2749405E7|\n",
      "|1372|        6637614.0|\n",
      "|1394|          35305.0|\n",
      "|1669|        2497860.0|\n",
      "| 666|         844213.0|\n",
      "| 870|           8244.0|\n",
      "+----+-----------------+\n",
      "only showing top 20 rows\n",
      "\n"
     ]
    },
    {
     "name": "stderr",
     "output_type": "stream",
     "text": [
      "\r",
      "                                                                                \r"
     ]
    }
   ],
   "source": [
    "# Implement a UDF to categorize products based on their profit margin into low, medium, and high-profit categories.\n",
    "profit_margin_df = (\n",
    "    cleaned_df\n",
    "    .withColumn('profit_margin', f.col('price_retail') - f.col('price_cost'))\n",
    "    .groupBy('id')\n",
    "    .agg(f.sum('profit_margin').alias('net_profit_margin'))\n",
    ")\n",
    "profit_margin_df.show()"
   ]
  },
  {
   "cell_type": "code",
   "execution_count": 51,
   "id": "c1a30ffa",
   "metadata": {},
   "outputs": [
    {
     "name": "stderr",
     "output_type": "stream",
     "text": [
      "\r",
      "[Stage 166:>                                                        (0 + 2) / 2]\r"
     ]
    },
    {
     "name": "stdout",
     "output_type": "stream",
     "text": [
      "[386936.0, 3647584.0]\n"
     ]
    },
    {
     "name": "stderr",
     "output_type": "stream",
     "text": [
      "\r",
      "                                                                                \r"
     ]
    }
   ],
   "source": [
    "percentiles = profit_margin_df.approxQuantile('net_profit_margin', [.33, .66], .01)\n",
    "print(percentiles)"
   ]
  },
  {
   "cell_type": "code",
   "execution_count": 60,
   "id": "cea2db13",
   "metadata": {},
   "outputs": [],
   "source": [
    "def profit_category(net_profit_margin, percentiles):\n",
    "    if net_profit_margin < percentiles[0]:\n",
    "        return 'low'\n",
    "    elif net_profit_margin < percentiles[1]:\n",
    "        return 'mid'\n",
    "    else:\n",
    "        return 'high'\n",
    "\n",
    "profit_category_udf = f.udf(profit_category, t.StringType())"
   ]
  },
  {
   "cell_type": "code",
   "execution_count": 61,
   "id": "6e7d8b87",
   "metadata": {},
   "outputs": [
    {
     "name": "stderr",
     "output_type": "stream",
     "text": [
      "[Stage 178:============================>                            (1 + 1) / 2]\r"
     ]
    },
    {
     "name": "stdout",
     "output_type": "stream",
     "text": [
      "+----+-----------------+---------------+\n",
      "|  id|net_profit_margin|profit_category|\n",
      "+----+-----------------+---------------+\n",
      "| 296|        1966136.0|            mid|\n",
      "| 467|        8695091.0|           high|\n",
      "| 675|        4787571.0|           high|\n",
      "| 691|         369209.0|            low|\n",
      "| 829|          32685.0|            low|\n",
      "|1090|        1828133.0|            mid|\n",
      "|1159|         334063.0|            low|\n",
      "|1436|          55648.0|            low|\n",
      "|1512|        3667760.0|           high|\n",
      "|1572|          43472.0|            low|\n",
      "| 125|          19497.0|            low|\n",
      "| 451|        7225119.0|           high|\n",
      "| 800|        1298541.0|            mid|\n",
      "| 853|          87542.0|            low|\n",
      "| 944|      1.2749405E7|           high|\n",
      "|1372|        6637614.0|           high|\n",
      "|1394|          35305.0|            low|\n",
      "|1669|        2497860.0|            mid|\n",
      "| 666|         844213.0|            mid|\n",
      "| 870|           8244.0|            low|\n",
      "+----+-----------------+---------------+\n",
      "only showing top 20 rows\n",
      "\n"
     ]
    },
    {
     "name": "stderr",
     "output_type": "stream",
     "text": [
      "\r",
      "                                                                                \r"
     ]
    }
   ],
   "source": [
    "profit_margin_category_df = (\n",
    "    profit_margin_df\n",
    "    .withColumn('profit_category', profit_category_udf('net_profit_margin', f.array([f.lit(p) for p in percentiles])))\n",
    ")\n",
    "profit_margin_category_df.show()"
   ]
  },
  {
   "cell_type": "markdown",
   "id": "9b493de5",
   "metadata": {},
   "source": [
    "## Hard Level"
   ]
  },
  {
   "cell_type": "markdown",
   "id": "e2f06dc4",
   "metadata": {},
   "source": [
    "### Complex Window Functions:"
   ]
  },
  {
   "cell_type": "code",
   "execution_count": 63,
   "id": "f5b3fd9e",
   "metadata": {},
   "outputs": [
    {
     "name": "stderr",
     "output_type": "stream",
     "text": [
      "[Stage 183:>                                                        (0 + 1) / 1]\r"
     ]
    },
    {
     "name": "stdout",
     "output_type": "stream",
     "text": [
      "+----------+---+-----------+-----+-----+----------+------------+----------+------------------------+\n",
      "|      date| id|category_id|sales|views|price_cost|price_retail|  new_date|vg_sales_in_last_3_month|\n",
      "+----------+---+-----------+-----+-----+----------+------------+----------+------------------------+\n",
      "|2022-02-24|100|          1|    0|    6|   88080.0|    151300.0|2022-02-24|                     0.0|\n",
      "|2022-02-25|100|          1|    0|    6|   88080.0|    146200.0|2022-02-25|                     0.0|\n",
      "|2022-02-26|100|          1|    0|   11|   88080.0|    146200.0|2022-02-26|                     0.0|\n",
      "|2022-02-27|100|          1|    0|    9|   88080.0|    146200.0|2022-02-27|                     0.0|\n",
      "|2022-02-28|100|          1|    0|    5|   88080.0|    146200.0|2022-02-28|                     0.0|\n",
      "|2022-03-01|100|          1|    0|    5|   88080.0|    146200.0|2022-03-01|                     0.0|\n",
      "|2022-03-02|100|          1|    0|    7|   88080.0|    146200.0|2022-03-02|                     0.0|\n",
      "|2022-03-03|100|          1|    0|    6|   88080.0|    146200.0|2022-03-03|                     0.0|\n",
      "|2022-03-04|100|          1|    0|    8|  109656.0|    146200.0|2022-03-04|                     0.0|\n",
      "|2022-03-05|100|          1|    0|    6|  109656.0|    163744.0|2022-03-05|                     0.0|\n",
      "|2022-03-06|100|          1|    0|   10|  109656.0|    163744.0|2022-03-06|                     0.0|\n",
      "|2022-03-07|100|          1|    0|   24|  109656.0|    163744.0|2022-03-07|                     0.0|\n",
      "|2022-03-08|100|          1|    0|    9|  109656.0|    163744.0|2022-03-08|                     0.0|\n",
      "|2022-03-09|100|          1|    1|   17|  109656.0|    146200.0|2022-03-09|     0.07142857142857142|\n",
      "|2022-03-10|100|          1|    0|   15|  109656.0|    146200.0|2022-03-10|     0.06666666666666667|\n",
      "|2022-03-11|100|          1|    0|   11|  109656.0|    146200.0|2022-03-11|                  0.0625|\n",
      "|2022-03-12|100|          1|    0|   12|  109656.0|    146200.0|2022-03-12|    0.058823529411764705|\n",
      "|2022-03-13|100|          1|    1|   20|  109656.0|    146200.0|2022-03-13|      0.1111111111111111|\n",
      "|2022-03-14|100|          1|    0|   20|  109656.0|    146200.0|2022-03-14|     0.10526315789473684|\n",
      "|2022-03-15|100|          1|    0|   17|  109656.0|    146200.0|2022-03-15|                     0.1|\n",
      "+----------+---+-----------+-----+-----+----------+------------+----------+------------------------+\n",
      "only showing top 20 rows\n",
      "\n"
     ]
    },
    {
     "name": "stderr",
     "output_type": "stream",
     "text": [
      "\r",
      "                                                                                \r"
     ]
    }
   ],
   "source": [
    "# For each product, calculate the average sales in the last 3 months.\n",
    "window_spec = Window.partitionBy('id').orderBy('new_date').rowsBetween(-90, 0)\n",
    "\n",
    "avg_sales_in_last_3_month_df = (\n",
    "    cleaned_df\n",
    "    .withColumn(\"avg_sales_in_last_3_month\", f.avg(\"sales\").over(window_spec))\n",
    ")\n",
    "avg_sales_in_last_3_month_df.show()"
   ]
  },
  {
   "cell_type": "code",
   "execution_count": 66,
   "id": "f0bd611e",
   "metadata": {},
   "outputs": [
    {
     "name": "stderr",
     "output_type": "stream",
     "text": [
      "[Stage 186:>                                                        (0 + 1) / 1]\r"
     ]
    },
    {
     "name": "stdout",
     "output_type": "stream",
     "text": [
      "+----------+---+-----------+-----+-----+----------+------------+----------+-------------------+\n",
      "|      date| id|category_id|sales|views|price_cost|price_retail|  new_date|moving_avg_of views|\n",
      "+----------+---+-----------+-----+-----+----------+------------+----------+-------------------+\n",
      "|2022-02-24|100|          1|    0|    6|   88080.0|    151300.0|2022-02-24|                6.0|\n",
      "|2022-02-25|100|          1|    0|    6|   88080.0|    146200.0|2022-02-25|                6.0|\n",
      "|2022-02-26|100|          1|    0|   11|   88080.0|    146200.0|2022-02-26|  7.666666666666667|\n",
      "|2022-02-27|100|          1|    0|    9|   88080.0|    146200.0|2022-02-27|                8.0|\n",
      "|2022-02-28|100|          1|    0|    5|   88080.0|    146200.0|2022-02-28|                7.4|\n",
      "|2022-03-01|100|          1|    0|    5|   88080.0|    146200.0|2022-03-01|                7.0|\n",
      "|2022-03-02|100|          1|    0|    7|   88080.0|    146200.0|2022-03-02|                7.0|\n",
      "|2022-03-03|100|          1|    0|    6|   88080.0|    146200.0|2022-03-03|              6.875|\n",
      "|2022-03-04|100|          1|    0|    8|  109656.0|    146200.0|2022-03-04|                7.0|\n",
      "|2022-03-05|100|          1|    0|    6|  109656.0|    163744.0|2022-03-05|                6.9|\n",
      "|2022-03-06|100|          1|    0|   10|  109656.0|    163744.0|2022-03-06|  7.181818181818182|\n",
      "|2022-03-07|100|          1|    0|   24|  109656.0|    163744.0|2022-03-07|  8.583333333333334|\n",
      "|2022-03-08|100|          1|    0|    9|  109656.0|    163744.0|2022-03-08|  8.615384615384615|\n",
      "|2022-03-09|100|          1|    1|   17|  109656.0|    146200.0|2022-03-09|  9.214285714285714|\n",
      "|2022-03-10|100|          1|    0|   15|  109656.0|    146200.0|2022-03-10|                9.6|\n",
      "|2022-03-11|100|          1|    0|   11|  109656.0|    146200.0|2022-03-11|             9.6875|\n",
      "|2022-03-12|100|          1|    0|   12|  109656.0|    146200.0|2022-03-12|  9.823529411764707|\n",
      "|2022-03-13|100|          1|    1|   20|  109656.0|    146200.0|2022-03-13|  10.38888888888889|\n",
      "|2022-03-14|100|          1|    0|   20|  109656.0|    146200.0|2022-03-14| 10.894736842105264|\n",
      "|2022-03-15|100|          1|    0|   17|  109656.0|    146200.0|2022-03-15|               11.2|\n",
      "+----------+---+-----------+-----+-----+----------+------------+----------+-------------------+\n",
      "only showing top 20 rows\n",
      "\n"
     ]
    },
    {
     "name": "stderr",
     "output_type": "stream",
     "text": [
      "\r",
      "                                                                                \r"
     ]
    }
   ],
   "source": [
    "# Implement a sliding window of 30 days to calculate the moving average of views for each product.\n",
    "window_spec = Window.partitionBy('id').orderBy('new_date').rowsBetween(-30, 0)\n",
    "\n",
    "moving_avg_views_30_days_df = (\n",
    "    cleaned_df\n",
    "    .withColumn('moving_avg_of views', f.avg('views').over(window_spec))\n",
    ")\n",
    "moving_avg_views_30_days_df.show()"
   ]
  },
  {
   "cell_type": "code",
   "execution_count": null,
   "id": "808602b7",
   "metadata": {},
   "outputs": [],
   "source": []
  }
 ],
 "metadata": {
  "kernelspec": {
   "display_name": "Python 3 (ipykernel)",
   "language": "python",
   "name": "python3"
  },
  "language_info": {
   "codemirror_mode": {
    "name": "ipython",
    "version": 3
   },
   "file_extension": ".py",
   "mimetype": "text/x-python",
   "name": "python",
   "nbconvert_exporter": "python",
   "pygments_lexer": "ipython3",
   "version": "3.11.5"
  }
 },
 "nbformat": 4,
 "nbformat_minor": 5
}

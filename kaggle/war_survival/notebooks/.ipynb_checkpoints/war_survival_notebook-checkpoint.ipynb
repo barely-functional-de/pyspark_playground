{
 "cells": [
  {
   "cell_type": "code",
   "execution_count": 17,
   "id": "72e900e4",
   "metadata": {},
   "outputs": [],
   "source": [
    "import pyspark\n",
    "from pyspark.sql import SparkSession\n",
    "from pyspark.sql import functions as f\n",
    "from pyspark.sql import types as t\n",
    "from pyspark.sql.window import Window"
   ]
  },
  {
   "cell_type": "code",
   "execution_count": 3,
   "id": "fe907d9b",
   "metadata": {},
   "outputs": [
    {
     "name": "stderr",
     "output_type": "stream",
     "text": [
      "24/05/05 15:48:06 WARN Utils: Your hostname, codespaces-0d4183 resolves to a loopback address: 127.0.0.1; using 172.16.5.4 instead (on interface eth0)\n",
      "24/05/05 15:48:06 WARN Utils: Set SPARK_LOCAL_IP if you need to bind to another address\n",
      "Setting default log level to \"WARN\".\n",
      "To adjust logging level use sc.setLogLevel(newLevel). For SparkR, use setLogLevel(newLevel).\n",
      "24/05/05 15:48:07 WARN NativeCodeLoader: Unable to load native-hadoop library for your platform... using builtin-java classes where applicable\n",
      "24/05/05 15:48:20 WARN GarbageCollectionMetrics: To enable non-built-in garbage collector(s) List(G1 Concurrent GC), users should configure it(them) to spark.eventLog.gcMetrics.youngGenerationGarbageCollectors or spark.eventLog.gcMetrics.oldGenerationGarbageCollectors\n"
     ]
    }
   ],
   "source": [
    "spark = (\n",
    "    SparkSession\n",
    "    .builder\n",
    "    .appName(\"War Survival Data Analysis\")\n",
    "    .master(\"local[*]\")\n",
    "    .config('spark.sql.adaptive.enabled', 'true')\n",
    "    .getOrCreate()\n",
    ")"
   ]
  },
  {
   "cell_type": "code",
   "execution_count": 6,
   "id": "4044fd98",
   "metadata": {},
   "outputs": [
    {
     "name": "stdout",
     "output_type": "stream",
     "text": [
      "+-------+---+------------------+----------------------+--------------+-----------+-----------+-----------------+--------------------+--------------+----------------+------------------------------+------------------------+-----------------------+\n",
      "|   Name|Age|Food Supply (Days)|Water per Day (Liters)|First Aid Kits|Antibiotics|Painkillers|Weapons Available|Defensive Structures|Training Level|Radios Available|Access to Reliable Information|Support Groups Available|Entertainment Available|\n",
      "+-------+---+------------------+----------------------+--------------+-----------+-----------+-----------------+--------------------+--------------+----------------+------------------------------+------------------------+-----------------------+\n",
      "| Sophia| 43|                13|     4.150040328218717|             4|         10|         21|               21|                   5|             2|              15|                            No|                     Yes|                  Books|\n",
      "|   Emma| 35|                10|     3.127284936298381|            10|         16|          8|               30|                   7|             3|              12|                            No|                     Yes|                  Games|\n",
      "| Sophia| 30|                14|    3.5291192937444658|             4|         13|         23|               76|                   8|             3|              11|                           Yes|                      No|                  Books|\n",
      "|  James| 53|                16|     4.840360726746758|            10|         14|         10|               60|                   4|             2|              16|                            No|                      No|                  Games|\n",
      "|Michael| 27|                 3|     4.845704025841812|             4|         15|         31|               89|                   0|             2|              14|                           Yes|                     Yes|                  Books|\n",
      "+-------+---+------------------+----------------------+--------------+-----------+-----------+-----------------+--------------------+--------------+----------------+------------------------------+------------------------+-----------------------+\n",
      "only showing top 5 rows\n",
      "\n"
     ]
    }
   ],
   "source": [
    "war_survival_df = (\n",
    "    spark\n",
    "    .read\n",
    "    .option('header', 'true')\n",
    "    .csv(\"../input_data/war_survival_data.csv\")\n",
    ")\n",
    "war_survival_df.show(5)"
   ]
  },
  {
   "cell_type": "code",
   "execution_count": 8,
   "id": "bb5b27b2",
   "metadata": {},
   "outputs": [
    {
     "name": "stdout",
     "output_type": "stream",
     "text": [
      "root\n",
      " |-- Name: string (nullable = true)\n",
      " |-- Age: string (nullable = true)\n",
      " |-- Food Supply (Days): string (nullable = true)\n",
      " |-- Water per Day (Liters): string (nullable = true)\n",
      " |-- First Aid Kits: string (nullable = true)\n",
      " |-- Antibiotics: string (nullable = true)\n",
      " |-- Painkillers: string (nullable = true)\n",
      " |-- Weapons Available: string (nullable = true)\n",
      " |-- Defensive Structures: string (nullable = true)\n",
      " |-- Training Level: string (nullable = true)\n",
      " |-- Radios Available: string (nullable = true)\n",
      " |-- Access to Reliable Information: string (nullable = true)\n",
      " |-- Support Groups Available: string (nullable = true)\n",
      " |-- Entertainment Available: string (nullable = true)\n",
      "\n"
     ]
    }
   ],
   "source": [
    "war_survival_df.printSchema()"
   ]
  },
  {
   "cell_type": "markdown",
   "id": "80e81c1a",
   "metadata": {},
   "source": [
    "## Medium "
   ]
  },
  {
   "cell_type": "markdown",
   "id": "dd30d435",
   "metadata": {},
   "source": [
    "### Data Cleaning and Transformation:"
   ]
  },
  {
   "cell_type": "code",
   "execution_count": 9,
   "id": "51c3b00e",
   "metadata": {},
   "outputs": [
    {
     "name": "stdout",
     "output_type": "stream",
     "text": [
      "root\n",
      " |-- Name: string (nullable = true)\n",
      " |-- Age: integer (nullable = true)\n",
      " |-- Food Supply (Days): integer (nullable = true)\n",
      " |-- Water per Day (Liters): float (nullable = true)\n",
      " |-- First Aid Kits: integer (nullable = true)\n",
      " |-- Antibiotics: integer (nullable = true)\n",
      " |-- Painkillers: integer (nullable = true)\n",
      " |-- Weapons Available: integer (nullable = true)\n",
      " |-- Defensive Structures: string (nullable = true)\n",
      " |-- Training Level: string (nullable = true)\n",
      " |-- Radios Available: string (nullable = true)\n",
      " |-- Access to Reliable Information: string (nullable = true)\n",
      " |-- Support Groups Available: string (nullable = true)\n",
      " |-- Entertainment Available: string (nullable = true)\n",
      "\n"
     ]
    }
   ],
   "source": [
    "# Convert the 'Age', 'Food Supply (Days)', 'Water per Day (Liters)', and other relevant columns to appropriate numeric data types.\n",
    "cleaned_df = (\n",
    "    war_survival_df\n",
    "    .withColumn('Age', f.col('Age').cast(t.IntegerType()))\n",
    "    .withColumn('Food Supply (Days)', f.col('Food Supply (Days)').cast(t.IntegerType()))\n",
    "    .withColumn('Water per Day (Liters)', f.col('Water per Day (Liters)').cast(t.FloatType()))\n",
    "    .withColumn('First Aid Kits', f.col('First Aid Kits').cast(t.IntegerType()))\n",
    "    .withColumn('Antibiotics', f.col('Antibiotics').cast(t.IntegerType()))\n",
    "    .withColumn('Painkillers', f.col('Painkillers').cast(t.IntegerType()))\n",
    "    .withColumn('Weapons Available', f.col('Weapons Available').cast(t.IntegerType()))\n",
    ")\n",
    "cleaned_df.printSchema()"
   ]
  },
  {
   "cell_type": "markdown",
   "id": "664a7e62",
   "metadata": {},
   "source": [
    "### Aggregation and Analysis:"
   ]
  },
  {
   "cell_type": "code",
   "execution_count": 15,
   "id": "a514fe6c",
   "metadata": {},
   "outputs": [
    {
     "name": "stdout",
     "output_type": "stream",
     "text": [
      "+--------+--------------------+-----------------+-----------------+---------------------+\n",
      "|avg(Age)|total_first_aid_kits|total_Antibiotics|total_Painkillers|avg_Weapons_Available|\n",
      "+--------+--------------------+-----------------+-----------------+---------------------+\n",
      "|  38.489|                5154|             9612|            25105|               47.564|\n",
      "+--------+--------------------+-----------------+-----------------+---------------------+\n",
      "\n"
     ]
    }
   ],
   "source": [
    "# Calculate the average age of individuals in the dataset.\n",
    "# Find the total number of first aid kits, antibiotics, and painkillers available across all individuals.\n",
    "# Determine the average number of weapons available per person.\n",
    "\n",
    "summary_df = (\n",
    "    cleaned_df\n",
    "    .agg(f.avg('Age')\n",
    "         , f.sum('First Aid Kits').alias('total_first_aid_kits')\n",
    "         , f.sum('Antibiotics').alias('total_Antibiotics')\n",
    "         , f.sum('Painkillers').alias('total_Painkillers')\n",
    "         , f.avg('Weapons Available').alias('avg_Weapons_Available')\n",
    "        )\n",
    "    \n",
    ")\n",
    "summary_df.show()"
   ]
  },
  {
   "cell_type": "markdown",
   "id": "766b7d52",
   "metadata": {},
   "source": [
    "## Hard Level"
   ]
  },
  {
   "cell_type": "markdown",
   "id": "3f50df8e",
   "metadata": {},
   "source": [
    "### Advanced Aggregation and Window Functions:"
   ]
  },
  {
   "cell_type": "code",
   "execution_count": 23,
   "id": "42da044f",
   "metadata": {},
   "outputs": [
    {
     "name": "stderr",
     "output_type": "stream",
     "text": [
      "24/05/05 16:26:41 WARN WindowExec: No Partition Defined for Window operation! Moving all data to a single partition, this can cause serious performance degradation.\n",
      "24/05/05 16:26:41 WARN WindowExec: No Partition Defined for Window operation! Moving all data to a single partition, this can cause serious performance degradation.\n",
      "24/05/05 16:26:41 WARN WindowExec: No Partition Defined for Window operation! Moving all data to a single partition, this can cause serious performance degradation.\n",
      "24/05/05 16:26:41 WARN WindowExec: No Partition Defined for Window operation! Moving all data to a single partition, this can cause serious performance degradation.\n",
      "24/05/05 16:26:41 WARN WindowExec: No Partition Defined for Window operation! Moving all data to a single partition, this can cause serious performance degradation.\n"
     ]
    },
    {
     "name": "stdout",
     "output_type": "stream",
     "text": [
      "+-------+---+------------------+----------------------+--------------+-----------+-----------+-----------------+--------------------+--------------+----------------+------------------------------+------------------------+-----------------------+--------------------------+\n",
      "|   Name|Age|Food Supply (Days)|Water per Day (Liters)|First Aid Kits|Antibiotics|Painkillers|Weapons Available|Defensive Structures|Training Level|Radios Available|Access to Reliable Information|Support Groups Available|Entertainment Available|cumulative_sum_food_supply|\n",
      "+-------+---+------------------+----------------------+--------------+-----------+-----------+-----------------+--------------------+--------------+----------------+------------------------------+------------------------+-----------------------+--------------------------+\n",
      "|Michael| 18|                13|             4.3504906|             0|         13|         13|               83|                   7|             3|               2|                            No|                      No|                  Books|                        13|\n",
      "| Sophia| 18|                13|             1.8430005|             3|         15|         22|               65|                   3|             0|              20|                            No|                      No|                  Books|                        26|\n",
      "|   John| 18|                 4|             1.3133234|             4|          5|         30|               88|                  10|             3|               3|                            No|                     Yes|                  Books|                        30|\n",
      "|  James| 18|                29|             4.2264895|             2|          9|         14|               60|                   3|             5|               5|                            No|                      No|                  Games|                        59|\n",
      "|  James| 18|                 7|             3.4736087|             6|         17|         16|               53|                   5|             0|              17|                            No|                      No|                  Books|                        66|\n",
      "|  James| 18|                 9|              3.988053|             2|          7|         47|               95|                   3|             2|               5|                           Yes|                      No|                  Books|                        75|\n",
      "|   John| 18|                24|             3.0236986|             5|          4|          5|               74|                   9|             2|               8|                            No|                      No|                  Games|                        99|\n",
      "|Michael| 18|                28|             1.5672973|             4|         12|         23|               49|                   2|             2|              12|                           Yes|                      No|                  Books|                       127|\n",
      "|   Emma| 18|                 1|             3.3860333|             9|         15|          6|               43|                  10|             4|               8|                            No|                     Yes|                  Games|                       128|\n",
      "|Michael| 18|                22|             3.7111745|             5|         10|         27|               12|                   8|             0|              18|                           Yes|                      No|                  Games|                       150|\n",
      "| Olivia| 18|                 2|              4.933362|             9|          8|         22|               77|                   8|             0|               1|                           Yes|                     Yes|                  Games|                       152|\n",
      "|  James| 18|                28|             3.7241302|             9|         14|         29|               89|                  10|             4|               0|                            No|                     Yes|                  Books|                       180|\n",
      "|Michael| 18|                 3|             3.4791558|             6|          9|         41|               37|                   9|             2|              12|                           Yes|                     Yes|                  Games|                       183|\n",
      "| Sophia| 18|                 5|             2.8192883|            10|          8|         21|               46|                   5|             4|              18|                            No|                     Yes|                  Books|                       188|\n",
      "|William| 18|                28|              4.740377|             0|         14|         10|               39|                   9|             4|               1|                            No|                     Yes|                  Books|                       216|\n",
      "|  James| 18|                26|             2.9137325|             8|         17|         22|               69|                   9|             5|              13|                            No|                      No|                  Games|                       242|\n",
      "|William| 18|                 6|             1.9913646|            10|         14|         16|               77|                   4|             0|              12|                           Yes|                     Yes|                  Books|                       248|\n",
      "|  James| 18|                11|             3.7285645|             7|         16|          4|               74|                   4|             3|               6|                            No|                     Yes|                  Books|                       259|\n",
      "| Olivia| 18|                27|             2.0308716|             5|         19|         42|               48|                   1|             4|              14|                           Yes|                      No|                  Books|                       286|\n",
      "| Sophia| 18|                 9|             1.8703256|             5|         12|         17|               78|                   7|             2|              14|                           Yes|                     Yes|                  Games|                       295|\n",
      "+-------+---+------------------+----------------------+--------------+-----------+-----------+-----------------+--------------------+--------------+----------------+------------------------------+------------------------+-----------------------+--------------------------+\n",
      "only showing top 20 rows\n",
      "\n"
     ]
    }
   ],
   "source": [
    "# Calculate the cumulative sum of 'Food Supply (Days)' for each individual, ordered by age.\n",
    "window_spec = Window.partitionBy().orderBy('Age').rowsBetween(Window.unboundedPreceding, 0)\n",
    "\n",
    "cumulative_sum_food_supply_df = (\n",
    "    cleaned_df\n",
    "    .withColumn('cumulative_sum_food_supply', f.sum('Food Supply (Days)').over(window_spec))\n",
    ")\n",
    "\n",
    "cumulative_sum_food_supply_df.show()"
   ]
  },
  {
   "cell_type": "code",
   "execution_count": 24,
   "id": "142938e3",
   "metadata": {},
   "outputs": [
    {
     "name": "stderr",
     "output_type": "stream",
     "text": [
      "24/05/05 16:32:15 WARN WindowExec: No Partition Defined for Window operation! Moving all data to a single partition, this can cause serious performance degradation.\n",
      "24/05/05 16:32:15 WARN WindowExec: No Partition Defined for Window operation! Moving all data to a single partition, this can cause serious performance degradation.\n",
      "24/05/05 16:32:15 WARN WindowExec: No Partition Defined for Window operation! Moving all data to a single partition, this can cause serious performance degradation.\n",
      "24/05/05 16:32:15 WARN WindowExec: No Partition Defined for Window operation! Moving all data to a single partition, this can cause serious performance degradation.\n",
      "24/05/05 16:32:15 WARN WindowExec: No Partition Defined for Window operation! Moving all data to a single partition, this can cause serious performance degradation.\n"
     ]
    },
    {
     "name": "stdout",
     "output_type": "stream",
     "text": [
      "+-------+---+------------------+----------------------+--------------+-----------+-----------+-----------------+--------------------+--------------+----------------+------------------------------+------------------------+-----------------------+-------------------------+\n",
      "|   Name|Age|Food Supply (Days)|Water per Day (Liters)|First Aid Kits|Antibiotics|Painkillers|Weapons Available|Defensive Structures|Training Level|Radios Available|Access to Reliable Information|Support Groups Available|Entertainment Available|rolling_avg_water_per_day|\n",
      "+-------+---+------------------+----------------------+--------------+-----------+-----------+-----------------+--------------------+--------------+----------------+------------------------------+------------------------+-----------------------+-------------------------+\n",
      "|Michael| 18|                13|             4.3504906|             0|         13|         13|               83|                   7|             3|               2|                            No|                      No|                  Books|        4.350490570068359|\n",
      "| Sophia| 18|                13|             1.8430005|             3|         15|         22|               65|                   3|             0|              20|                            No|                      No|                  Books|        3.096745550632477|\n",
      "|   John| 18|                 4|             1.3133234|             4|          5|         30|               88|                  10|             3|               3|                            No|                     Yes|                  Books|       2.5022714932759604|\n",
      "|  James| 18|                29|             4.2264895|             2|          9|         14|               60|                   3|             5|               5|                            No|                      No|                  Games|        2.933326005935669|\n",
      "|  James| 18|                 7|             3.4736087|             6|         17|         16|               53|                   5|             0|              17|                            No|                      No|                  Books|       3.0413825511932373|\n",
      "|  James| 18|                 9|              3.988053|             2|          7|         47|               95|                   3|             2|               5|                           Yes|                      No|                  Books|       3.1991609732309976|\n",
      "|   John| 18|                24|             3.0236986|             5|          4|          5|               74|                   9|             2|               8|                            No|                      No|                  Games|        2.978028972943624|\n",
      "|Michael| 18|                28|             1.5672973|             4|         12|         23|               49|                   2|             2|              12|                           Yes|                      No|                  Books|       2.9320784409840903|\n",
      "|   Emma| 18|                 1|             3.3860333|             9|         15|          6|               43|                  10|             4|               8|                            No|                     Yes|                  Games|        3.277530093987783|\n",
      "|Michael| 18|                22|             3.7111745|             5|         10|         27|               12|                   8|             0|              18|                           Yes|                      No|                  Games|        3.191644251346588|\n",
      "| Olivia| 18|                 2|              4.933362|             9|          8|         22|               77|                   8|             0|               1|                           Yes|                     Yes|                  Games|       3.4349364638328552|\n",
      "|  James| 18|                28|             3.7241302|             9|         14|         29|               89|                  10|             4|               0|                            No|                     Yes|                  Books|        3.390949308872223|\n",
      "|Michael| 18|                 3|             3.4791558|             6|          9|         41|               37|                   9|             2|              12|                           Yes|                     Yes|                  Games|       3.4668588439623513|\n",
      "| Sophia| 18|                 5|             2.8192883|            10|          8|         21|               46|                   5|             4|              18|                            No|                     Yes|                  Books|       3.6755239963531494|\n",
      "|William| 18|                28|              4.740377|             0|         14|         10|               39|                   9|             4|               1|                            No|                     Yes|                  Books|       3.9012479384740195|\n",
      "|  James| 18|                26|             2.9137325|             8|         17|         22|               69|                   9|             5|              13|                            No|                      No|                  Games|       3.7683409452438354|\n",
      "|William| 18|                 6|             1.9913646|            10|         14|         16|               77|                   4|             0|              12|                           Yes|                     Yes|                  Books|       3.2780080437660217|\n",
      "|  James| 18|                11|             3.7285645|             7|         16|          4|               74|                   4|             3|               6|                            No|                     Yes|                  Books|        3.278747101624807|\n",
      "| Olivia| 18|                27|             2.0308716|             5|         19|         42|               48|                   1|             4|              14|                           Yes|                      No|                  Books|       3.0373664100964866|\n",
      "| Sophia| 18|                 9|             1.8703256|             5|         12|         17|               78|                   7|             2|              14|                           Yes|                     Yes|                  Games|       2.8792059620221457|\n",
      "+-------+---+------------------+----------------------+--------------+-----------+-----------+-----------------+--------------------+--------------+----------------+------------------------------+------------------------+-----------------------+-------------------------+\n",
      "only showing top 20 rows\n",
      "\n"
     ]
    }
   ],
   "source": [
    "# Compute the rolling average of 'Water per Day (Liters)' for a window of 5 individuals, ordered by age.\n",
    "window_spec = Window.partitionBy().orderBy('age').rowsBetween(-5, 0)\n",
    "\n",
    "rolling_avg_water_per_day_df = (\n",
    "    cleaned_df\n",
    "    .withColumn('rolling_avg_water_per_day', f.avg('Water per Day (Liters)').over(window_spec))\n",
    ")\n",
    "\n",
    "rolling_avg_water_per_day_df.show()"
   ]
  },
  {
   "cell_type": "code",
   "execution_count": 28,
   "id": "0ce8eb67",
   "metadata": {},
   "outputs": [
    {
     "name": "stdout",
     "output_type": "stream",
     "text": [
      "Name \t null--> 0\n",
      "Age \t null--> 0\n",
      "Food Supply (Days) \t null--> 0\n",
      "Water per Day (Liters) \t null--> 0\n",
      "First Aid Kits \t null--> 0\n",
      "Antibiotics \t null--> 0\n",
      "Painkillers \t null--> 0\n",
      "Weapons Available \t null--> 0\n",
      "Defensive Structures \t null--> 0\n",
      "Training Level \t null--> 0\n",
      "Radios Available \t null--> 0\n",
      "Access to Reliable Information \t null--> 0\n",
      "Support Groups Available \t null--> 0\n",
      "Entertainment Available \t null--> 0\n"
     ]
    }
   ],
   "source": [
    "columns = cleaned_df.columns\n",
    "\n",
    "null_columns_list = [(c, cleaned_df.filter(f.col(c).isNull()).count()) for c in columns]\n",
    "\n",
    "for column , count in null_columns_list:\n",
    "    print(f'{column} \\t null--> {count}')"
   ]
  },
  {
   "cell_type": "code",
   "execution_count": 30,
   "id": "dd9c6fcd",
   "metadata": {},
   "outputs": [
    {
     "name": "stdout",
     "output_type": "stream",
     "text": [
      "median_water_per_day: 5.0\n",
      "+-------+----+----------------------+\n",
      "|   Name| Age|Water per Day (Liters)|\n",
      "+-------+----+----------------------+\n",
      "|   John|  30|                     2|\n",
      "|  Alice|  25|                     5|\n",
      "|    Bob|  40|                     4|\n",
      "|   Jane|  35|                     5|\n",
      "|   Emma|NULL|                     6|\n",
      "|Michael|  55|                     7|\n",
      "| Sophia|  50|                     5|\n",
      "+-------+----+----------------------+\n",
      "\n"
     ]
    }
   ],
   "source": [
    "# Handle missing values in the dataset. For example, impute missing 'Water per Day (Liters)' values with the median value\n",
    "# Since there are no missing/null values, lets excercise it using the below sample data:\n",
    "# Sample data with missing values\n",
    "data = [\n",
    "    (\"John\", 30, 2),   # Name, Age, Water per Day (Liters)\n",
    "    (\"Alice\", 25, None),\n",
    "    (\"Bob\", 40, 4),\n",
    "    (\"Jane\", 35, 5),\n",
    "    (\"Emma\", None, 6),\n",
    "    (\"Michael\", 55, 7),\n",
    "    (\"Sophia\", 50, None)\n",
    "]\n",
    "\n",
    "# Create DataFrame\n",
    "df = spark.createDataFrame(data, [\"Name\", \"Age\", \"Water per Day (Liters)\"])\n",
    "\n",
    "# Calculate median value for 'Water per Day (Liters)'\n",
    "median_water_per_day = df.approxQuantile(\"Water per Day (Liters)\", [0.5], 0.25)[0]\n",
    "print(f'median_water_per_day: {median_water_per_day}')\n",
    "\n",
    "# Impute missing values with median value\n",
    "df = df.na.fill({\"Water per Day (Liters)\": median_water_per_day})\n",
    "\n",
    "# Show the result\n",
    "df.show()"
   ]
  }
 ],
 "metadata": {
  "kernelspec": {
   "display_name": "Python 3 (ipykernel)",
   "language": "python",
   "name": "python3"
  },
  "language_info": {
   "codemirror_mode": {
    "name": "ipython",
    "version": 3
   },
   "file_extension": ".py",
   "mimetype": "text/x-python",
   "name": "python",
   "nbconvert_exporter": "python",
   "pygments_lexer": "ipython3",
   "version": "3.11.5"
  }
 },
 "nbformat": 4,
 "nbformat_minor": 5
}

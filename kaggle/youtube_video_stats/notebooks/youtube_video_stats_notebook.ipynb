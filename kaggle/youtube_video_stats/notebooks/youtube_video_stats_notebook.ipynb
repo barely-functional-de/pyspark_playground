{
 "cells": [
  {
   "cell_type": "code",
   "execution_count": 1,
   "id": "07afc0c0",
   "metadata": {},
   "outputs": [],
   "source": [
    "import pyspark\n",
    "from pyspark.sql import SparkSession\n",
    "from pyspark.sql import functions as f\n",
    "from pyspark.sql import types as t\n",
    "from pyspark.sql.types import StructType, StructField, StringType, BooleanType, ArrayType"
   ]
  },
  {
   "cell_type": "code",
   "execution_count": 2,
   "id": "12169c71",
   "metadata": {},
   "outputs": [
    {
     "name": "stderr",
     "output_type": "stream",
     "text": [
      "24/05/13 14:06:25 WARN Utils: Your hostname, codespaces-0d4183 resolves to a loopback address: 127.0.0.1; using 172.16.5.4 instead (on interface eth0)\n",
      "24/05/13 14:06:25 WARN Utils: Set SPARK_LOCAL_IP if you need to bind to another address\n",
      "Setting default log level to \"WARN\".\n",
      "To adjust logging level use sc.setLogLevel(newLevel). For SparkR, use setLogLevel(newLevel).\n",
      "24/05/13 14:06:27 WARN NativeCodeLoader: Unable to load native-hadoop library for your platform... using builtin-java classes where applicable\n",
      "24/05/13 14:06:42 WARN GarbageCollectionMetrics: To enable non-built-in garbage collector(s) List(G1 Concurrent GC), users should configure it(them) to spark.eventLog.gcMetrics.youngGenerationGarbageCollectors or spark.eventLog.gcMetrics.oldGenerationGarbageCollectors\n"
     ]
    }
   ],
   "source": [
    "spark = (\n",
    "    SparkSession\n",
    "    .builder\n",
    "    .appName(\"Youtube Video Stats Analysis\")\n",
    "    .master(\"local[*]\")\n",
    "    .config('spark.sql.adaptive.enabled', 'true')\n",
    "    .getOrCreate()\n",
    ")"
   ]
  },
  {
   "cell_type": "code",
   "execution_count": 4,
   "id": "e884b4ae",
   "metadata": {},
   "outputs": [],
   "source": [
    "# Define the schema\n",
    "json_schema = StructType([\n",
    "    StructField(\"kind\", StringType(), nullable=True),\n",
    "    StructField(\"etag\", StringType(), nullable=True),\n",
    "    StructField(\"items\", ArrayType(StructType([\n",
    "        StructField(\"kind\", StringType(), nullable=True),\n",
    "        StructField(\"etag\", StringType(), nullable=True),\n",
    "        StructField(\"id\", StringType(), nullable=True),\n",
    "        StructField(\"snippet\", StructType([\n",
    "            StructField(\"channelId\", StringType(), nullable=True),\n",
    "            StructField(\"title\", StringType(), nullable=True),\n",
    "            StructField(\"assignable\", BooleanType(), nullable=True)\n",
    "        ]), nullable=True)\n",
    "    ])), nullable=True)\n",
    "])"
   ]
  },
  {
   "cell_type": "code",
   "execution_count": 7,
   "id": "a1e58852",
   "metadata": {},
   "outputs": [
    {
     "name": "stderr",
     "output_type": "stream",
     "text": [
      "24/05/13 14:22:00 WARN CacheManager: Asked to cache already cached data.\n"
     ]
    },
    {
     "data": {
      "text/plain": [
       "DataFrame[kind: string, etag: string, items: array<struct<kind:string,etag:string,id:string,snippet:struct<channelId:string,title:string,assignable:boolean>>>]"
      ]
     },
     "execution_count": 7,
     "metadata": {},
     "output_type": "execute_result"
    }
   ],
   "source": [
    "ca_videos_df = (\n",
    "    spark\n",
    "    .read\n",
    "    .option('header', 'true')\n",
    "    .csv('../input_data/CAvideos.csv')\n",
    ")\n",
    "\n",
    "ca_category_csv_df = (\n",
    "    spark.read\n",
    "    .option(\"header\", \"true\")\n",
    "    .csv(\"../input_data/CA_category_id.csv\")\n",
    ")\n",
    "\n",
    "# not rendering values for some unknown reason\n",
    "ca_category_df = (\n",
    "    spark\n",
    "    .read\n",
    "    .schema(json_schema)\n",
    "    .json('../input_data/CA_category_id.json')\n",
    ")\n",
    "# Filter out corrupt records\n",
    "# ca_category_clean_df = ca_category_df.filter(ca_category_df[\"_corrupt_record\"].isNull())\n",
    "# Cache or save parsed results\n",
    "ca_category_df.cache()"
   ]
  },
  {
   "cell_type": "code",
   "execution_count": 6,
   "id": "8ff6071e",
   "metadata": {},
   "outputs": [
    {
     "name": "stdout",
     "output_type": "stream",
     "text": [
      "+-----------+-------------+--------------------+-------------+-----------+--------------------+--------------------+--------+-------+--------+-------------+--------------------+-----------------+----------------+----------------------+--------------------+\n",
      "|   video_id|trending_date|               title|channel_title|category_id|        publish_time|                tags|   views|  likes|dislikes|comment_count|      thumbnail_link|comments_disabled|ratings_disabled|video_error_or_removed|         description|\n",
      "+-----------+-------------+--------------------+-------------+-----------+--------------------+--------------------+--------+-------+--------+-------------+--------------------+-----------------+----------------+----------------------+--------------------+\n",
      "|n1WpP7iowLc|     17.14.11|Eminem - Walk On ...|   EminemVEVO|         10|2017-11-10T17:00:...|\"Eminem\"|\"Walk\"|\"...|17158579| 787425|   43420|       125882|https://i.ytimg.c...|            False|           False|                 False|Eminem's new trac...|\n",
      "|0dBIkQ4Mz1M|     17.14.11|PLUSH - Bad Unbox...|    iDubbbzTV|         23|2017-11-13T17:00:...|\"plush\"|\"bad unbo...| 1014651| 127794|    1688|        13030|https://i.ytimg.c...|            False|           False|                 False|STill got a lot o...|\n",
      "|5qpjK5DgCt4|     17.14.11|Racist Superman |...| Rudy Mancuso|         23|2017-11-12T19:05:...|\"racist superman\"...| 3191434| 146035|    5339|         8181|https://i.ytimg.c...|            False|           False|                 False|WATCH MY PREVIOUS...|\n",
      "|d380meD0W0M|     17.14.11|I Dare You: GOING...|     nigahiga|         24|2017-11-12T18:01:...|\"ryan\"|\"higa\"|\"hi...| 2095828| 132239|    1989|        17518|https://i.ytimg.c...|            False|           False|                 False|I know it's been ...|\n",
      "|2Vv-BfVoq4g|     17.14.11|Ed Sheeran - Perf...|   Ed Sheeran|         10|2017-11-09T11:04:...|\"edsheeran\"|\"ed s...|33523622|1634130|   21082|        85067|https://i.ytimg.c...|            False|           False|                 False|🎧: https://ad.gt...|\n",
      "+-----------+-------------+--------------------+-------------+-----------+--------------------+--------------------+--------+-------+--------+-------------+--------------------+-----------------+----------------+----------------------+--------------------+\n",
      "only showing top 5 rows\n",
      "\n"
     ]
    }
   ],
   "source": [
    "ca_videos_df.show(5)"
   ]
  },
  {
   "cell_type": "code",
   "execution_count": 10,
   "id": "c1f93347",
   "metadata": {},
   "outputs": [
    {
     "name": "stdout",
     "output_type": "stream",
     "text": [
      "root\n",
      " |-- video_id: string (nullable = true)\n",
      " |-- trending_date: string (nullable = true)\n",
      " |-- title: string (nullable = true)\n",
      " |-- channel_title: string (nullable = true)\n",
      " |-- category_id: string (nullable = true)\n",
      " |-- publish_time: string (nullable = true)\n",
      " |-- tags: string (nullable = true)\n",
      " |-- views: string (nullable = true)\n",
      " |-- likes: string (nullable = true)\n",
      " |-- dislikes: string (nullable = true)\n",
      " |-- comment_count: string (nullable = true)\n",
      " |-- thumbnail_link: string (nullable = true)\n",
      " |-- comments_disabled: string (nullable = true)\n",
      " |-- ratings_disabled: string (nullable = true)\n",
      " |-- video_error_or_removed: string (nullable = true)\n",
      " |-- description: string (nullable = true)\n",
      "\n"
     ]
    }
   ],
   "source": [
    "ca_videos_df.printSchema()"
   ]
  },
  {
   "cell_type": "code",
   "execution_count": 8,
   "id": "8bacbe9b",
   "metadata": {},
   "outputs": [
    {
     "name": "stdout",
     "output_type": "stream",
     "text": [
      "+---+----------------+\n",
      "| id|           title|\n",
      "+---+----------------+\n",
      "|  1|Film & Animation|\n",
      "|  2|Autos & Vehicles|\n",
      "| 10|           Music|\n",
      "| 15|  Pets & Animals|\n",
      "+---+----------------+\n",
      "only showing top 4 rows\n",
      "\n"
     ]
    }
   ],
   "source": [
    "ca_category_csv_df.show(4)"
   ]
  },
  {
   "cell_type": "markdown",
   "id": "f6989ad8",
   "metadata": {},
   "source": [
    "## Medium Level"
   ]
  },
  {
   "cell_type": "code",
   "execution_count": 12,
   "id": "056d8213",
   "metadata": {},
   "outputs": [],
   "source": [
    "# 1. Find the total number of videos in each category.\n",
    "video_joined_df = (\n",
    "    ca_videos_df.alias(\"video\").join(\n",
    "        ca_category_csv_df.alias(\"category\")\n",
    "        ,on = (f.col(\"video.category_id\")==f.col(\"category.id\"))\n",
    "        ,how = \"left\"\n",
    "    )\n",
    "    .selectExpr(\"video.*\", \"category.title as category_title\")\n",
    ")"
   ]
  },
  {
   "cell_type": "code",
   "execution_count": 15,
   "id": "27d07227",
   "metadata": {},
   "outputs": [
    {
     "name": "stderr",
     "output_type": "stream",
     "text": [
      "\r",
      "[Stage 15:>                                                         (0 + 2) / 2]\r"
     ]
    },
    {
     "name": "stdout",
     "output_type": "stream",
     "text": [
      "+--------------------+-----------+\n",
      "|      category_title|video_count|\n",
      "+--------------------+-----------+\n",
      "|       Entertainment|      13451|\n",
      "|                NULL|       4753|\n",
      "|     News & Politics|       4159|\n",
      "|      People & Blogs|       4105|\n",
      "|              Comedy|       3773|\n",
      "|               Music|       3731|\n",
      "|              Sports|       2787|\n",
      "|    Film & Animation|       2060|\n",
      "|       Howto & Style|       2007|\n",
      "|              Gaming|       1344|\n",
      "|Science & Technology|       1155|\n",
      "|           Education|        991|\n",
      "|     Travel & Events|        392|\n",
      "|      Pets & Animals|        369|\n",
      "|    Autos & Vehicles|        353|\n",
      "|               Shows|        124|\n",
      "|              Movies|          6|\n",
      "+--------------------+-----------+\n",
      "\n"
     ]
    },
    {
     "name": "stderr",
     "output_type": "stream",
     "text": [
      "\r",
      "                                                                                \r"
     ]
    }
   ],
   "source": [
    "video_count_per_category_df = (\n",
    "    video_joined_df\n",
    "    .groupBy('category_title')\n",
    "    .agg(f.count(f.col('*')).alias('video_count'))\n",
    "    .orderBy(f.desc('video_count'))\n",
    ")\n",
    "\n",
    "video_count_per_category_df.show()"
   ]
  },
  {
   "cell_type": "code",
   "execution_count": 18,
   "id": "33a2a08d",
   "metadata": {},
   "outputs": [
    {
     "name": "stderr",
     "output_type": "stream",
     "text": [
      "\r",
      "[Stage 27:>                                                         (0 + 2) / 2]\r",
      "\r",
      "[Stage 27:=============================>                            (1 + 1) / 2]\r"
     ]
    },
    {
     "name": "stdout",
     "output_type": "stream",
     "text": [
      "+--------------------+------------------+------------------+------------------+\n",
      "|       channel_title|       likes_count|    dislikes_count|     comment_count|\n",
      "+--------------------+------------------+------------------+------------------+\n",
      "|             ibighit|2645256.5263157897|           48049.0|481934.36842105264|\n",
      "|           DrakeVEVO|         2027493.0|           22755.5|133422.33333333334|\n",
      "| ChildishGambinoVEVO|         1824239.5|           86243.5|         193142.75|\n",
      "|    ArianaGrandeVevo|         1616078.0|53161.666666666664|155179.16666666666|\n",
      "|        David Dobrik|1426158.8333333333| 67102.16666666667|          234461.5|\n",
      "|   YouTube Spotlight|1298430.3846153845| 684501.5384615385| 415868.3076923077|\n",
      "|     TaylorSwiftVEVO|         1218075.4|64185.666666666664|109415.86666666667|\n",
      "|          Bruno Mars|1211541.6666666667|39243.333333333336|           89598.0|\n",
      "|       LuisFonsiVEVO| 894564.6666666666|38091.666666666664|52159.444444444445|\n",
      "|           Bad Bunny|          886007.0|29070.166666666668|           57848.5|\n",
      "|Marvel Entertainment| 843404.6666666666|15546.051282051281|105739.64102564103|\n",
      "|     SelenaGomezVEVO|          781026.0|21524.666666666668|48046.666666666664|\n",
      "|          Ed Sheeran| 770146.0833333334|13188.458333333334|38540.291666666664|\n",
      "|            Lil pump| 759641.3076923077|50846.846153846156| 88006.84615384616|\n",
      "|         Collins Key|          688415.6|           11863.8|          136154.4|\n",
      "|Sơn Tùng M-TP Off...| 688322.6666666666|          104675.0|          350702.0|\n",
      "|         Maroon5VEVO| 683697.6111111111|12147.166666666666|42143.333333333336|\n",
      "|      PostMaloneVEVO| 663523.2857142857|16184.214285714286|51149.857142857145|\n",
      "|    jypentertainment|          662197.5|           38926.5|          106640.1|\n",
      "|            Dua Lipa| 655684.5555555555|15689.222222222223| 30758.88888888889|\n",
      "+--------------------+------------------+------------------+------------------+\n",
      "only showing top 20 rows\n",
      "\n"
     ]
    },
    {
     "name": "stderr",
     "output_type": "stream",
     "text": [
      "\r",
      "                                                                                \r"
     ]
    }
   ],
   "source": [
    "# 2. Calculate the average number of views, likes, dislikes, and comments for each channel.\n",
    "avg_likes_dislikes_comment_df = (\n",
    "    video_joined_df\n",
    "    .groupBy(\"channel_title\")\n",
    "    .agg(f.avg('likes').alias(\"likes_count\")\n",
    "         , f.avg('dislikes').alias(\"dislikes_count\")\n",
    "         , f.avg('comment_count').alias('comment_count')\n",
    "        )\n",
    "    .orderBy(f.desc(\"likes_count\"))\n",
    ")\n",
    "avg_likes_dislikes_comment_df.show()"
   ]
  },
  {
   "cell_type": "code",
   "execution_count": 24,
   "id": "f6adf858",
   "metadata": {},
   "outputs": [
    {
     "name": "stderr",
     "output_type": "stream",
     "text": [
      "\r",
      "[Stage 41:>                                                         (0 + 2) / 2]\r"
     ]
    },
    {
     "name": "stdout",
     "output_type": "stream",
     "text": [
      "+----------------------+---------------------------------------+----------------------+--------------------+-------------------------------------+------------------------------------+------------------------------------+-----------------------------------------+---------------------------------------+------------------------------------------+---------------------------------------+---------------------------------------------+-----------------------------------------------+-----------------------+----------------------+-----------+--------------+\n",
      "|video_id              |trending_date                          |title                 |channel_title       |category_id                          |publish_time                        |tags                                |views                                    |likes                                  |dislikes                                  |comment_count                          |thumbnail_link                               |comments_disabled                              |ratings_disabled       |video_error_or_removed|description|category_title|\n",
      "+----------------------+---------------------------------------+----------------------+--------------------+-------------------------------------+------------------------------------+------------------------------------+-----------------------------------------+---------------------------------------+------------------------------------------+---------------------------------------+---------------------------------------------+-----------------------------------------------+-----------------------+----------------------+-----------+--------------+\n",
      "|\\nAiman Khan as Shafaq| Sanam Chaudhry as Anjum Parveen (Anji)|Shahzad Sheikh as Azar| Ali Abbas as Kamran|Yashma Gill as Erum (Shafaq’s bhabhi)|Ali Ansari as Aftab (Anji’s husband)|Humera Bano as Razia (Anji’s mother)|Mariyam Mirza as Naheed (Shafaq’s mother)|Shajeer Uddin as Atta (Shafaq’s father)|Barjees Farooqui as Simi (Shafaq ki khala)|Mabsira Khan as Shahida (Erum’s mother)|Mizna Waqas as Fakhira (elder sister of Anji)|Ramsha Akmal as Lubnah (younger sister of Anji)|Arsalan Raja as Hassaan|NULL                  |NULL       |NULL          |\n",
      "|\\nAiman Khan as Shafaq| Sanam Chaudhry as Anjum Parveen (Anji)|Shahzad Sheikh as Azar| Ali Abbas as Kamran|Yashma Gill as Erum (Shafaq’s bhabhi)|Ali Ansari as Aftab (Anji’s husband)|Humera Bano as Razia (Anji’s mother)|Mariyam Mirza as Naheed (Shafaq’s mother)|Shajeer Uddin as Atta (Shafaq’s father)|Barjees Farooqui as Simi (Shafaq ki khala)|Mabsira Khan as Shahida (Erum’s mother)|Mizna Waqas as Fakhira (elder sister of Anji)|Ramsha Akmal as Lubnah (younger sister of Anji)|Arsalan Raja as Hassaan|NULL                  |NULL       |NULL          |\n",
      "|\\nAiman Khan as Shafaq| Sanam Chaudhry as Anjum Parveen (Anji)|Shahzad Sheikh as Azar| Ali Abbas as Kamran|Yashma Gill as Erum (Shafaq’s bhabhi)|Ali Ansari as Aftab (Anji’s husband)|Humera Bano as Razia (Anji’s mother)|Mariyam Mirza as Naheed (Shafaq’s mother)|Shajeer Uddin as Atta (Shafaq’s father)|Barjees Farooqui as Simi (Shafaq ki khala)|Mabsira Khan as Shahida (Erum’s mother)|Mizna Waqas as Fakhira (elder sister of Anji)|Ramsha Akmal as Lubnah (younger sister of Anji)|Arsalan Raja as Hassaan|NULL                  |NULL       |NULL          |\n",
      "+----------------------+---------------------------------------+----------------------+--------------------+-------------------------------------+------------------------------------+------------------------------------+-----------------------------------------+---------------------------------------+------------------------------------------+---------------------------------------+---------------------------------------------+-----------------------------------------------+-----------------------+----------------------+-----------+--------------+\n",
      "only showing top 3 rows\n",
      "\n"
     ]
    },
    {
     "name": "stderr",
     "output_type": "stream",
     "text": [
      "\r",
      "                                                                                \r"
     ]
    }
   ],
   "source": [
    "# 3. Identify the top 10 trending videos based on the highest number of views.\n",
    "top_trending_liked_videos_df = (\n",
    "    video_joined_df\n",
    "    .orderBy(f.desc(\"views\"))\n",
    "    .limit(10)\n",
    ")\n",
    "top_trending_liked_videos_df.show(3, truncate=False)"
   ]
  },
  {
   "cell_type": "code",
   "execution_count": 47,
   "id": "a50d7b08",
   "metadata": {},
   "outputs": [
    {
     "name": "stdout",
     "output_type": "stream",
     "text": [
      "+--------------------+---------------------+\n",
      "|trending_day_of_week|trending_videos_count|\n",
      "+--------------------+---------------------+\n",
      "|            Saturday|                 5990|\n",
      "|             Tuesday|                 5988|\n",
      "|              Sunday|                 5794|\n",
      "|              Friday|                 5787|\n",
      "|            Thursday|                 5783|\n",
      "|           Wednesday|                 5780|\n",
      "|              Monday|                 5759|\n",
      "|                NULL|                 4679|\n",
      "+--------------------+---------------------+\n",
      "\n"
     ]
    },
    {
     "name": "stderr",
     "output_type": "stream",
     "text": [
      "\r",
      "[Stage 71:>                                                         (0 + 2) / 2]\r",
      "\r",
      "                                                                                \r"
     ]
    }
   ],
   "source": [
    "# 4. Investigate the distribution of trending videos over different days of the week\n",
    "# video_joined_df.show(2)\n",
    "split_date = f.split(video_joined_df[\"trending_date\"], \"\\\\.\")\n",
    "new_date_format = f.concat_ws(\"-\", split_date[0], split_date[2], split_date[1])\n",
    "\n",
    "trending_video_over_day_of_week_df = (\n",
    "    video_joined_df\n",
    "    .withColumn(\"day_of_week_new1\", f.to_date(f.col('trending_date'), \"yy.MM.dd\"))\n",
    "    .withColumn(\"trending_date_new2\", f.to_date(new_date_format, \"yy-MM-dd\"))\n",
    "    .withColumn(\"trending_day_of_week\", f.date_format(f.col(\"trending_date_new2\"), \"EEEE\"))\n",
    "    .groupBy('trending_day_of_week')\n",
    "    .agg(f.count('video_id').alias('trending_videos_count'))\n",
    "    .orderBy(f.desc('trending_videos_count'))\n",
    "    \n",
    ")\n",
    "trending_video_over_day_of_week_df.show()"
   ]
  },
  {
   "cell_type": "code",
   "execution_count": 37,
   "id": "f7949994",
   "metadata": {},
   "outputs": [
    {
     "ename": "TypeError",
     "evalue": "'Column' object is not callable",
     "output_type": "error",
     "traceback": [
      "\u001b[0;31m---------------------------------------------------------------------------\u001b[0m",
      "\u001b[0;31mTypeError\u001b[0m                                 Traceback (most recent call last)",
      "Cell \u001b[0;32mIn[37], line 1\u001b[0m\n\u001b[0;32m----> 1\u001b[0m new_date_format\u001b[38;5;241m.\u001b[39mshow()\n",
      "\u001b[0;31mTypeError\u001b[0m: 'Column' object is not callable"
     ]
    }
   ],
   "source": [
    "new_date_format.show()"
   ]
  },
  {
   "cell_type": "code",
   "execution_count": null,
   "id": "ba4393ea",
   "metadata": {},
   "outputs": [],
   "source": []
  }
 ],
 "metadata": {
  "kernelspec": {
   "display_name": "Python 3 (ipykernel)",
   "language": "python",
   "name": "python3"
  },
  "language_info": {
   "codemirror_mode": {
    "name": "ipython",
    "version": 3
   },
   "file_extension": ".py",
   "mimetype": "text/x-python",
   "name": "python",
   "nbconvert_exporter": "python",
   "pygments_lexer": "ipython3",
   "version": "3.11.5"
  }
 },
 "nbformat": 4,
 "nbformat_minor": 5
}

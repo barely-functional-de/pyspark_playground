{
 "cells": [
  {
   "cell_type": "code",
   "execution_count": 19,
   "id": "2131f658",
   "metadata": {},
   "outputs": [],
   "source": [
    "import pyspark\n",
    "from pyspark.sql import SparkSession\n",
    "from pyspark.sql import functions as f"
   ]
  },
  {
   "cell_type": "code",
   "execution_count": 2,
   "id": "076aa419",
   "metadata": {},
   "outputs": [
    {
     "data": {
      "text/plain": [
       "'3.5.1'"
      ]
     },
     "execution_count": 2,
     "metadata": {},
     "output_type": "execute_result"
    }
   ],
   "source": [
    "pyspark.__version__"
   ]
  },
  {
   "cell_type": "code",
   "execution_count": 4,
   "id": "2f975c69",
   "metadata": {},
   "outputs": [
    {
     "name": "stderr",
     "output_type": "stream",
     "text": [
      "24/05/02 20:00:12 WARN Utils: Your hostname, codespaces-0d4183 resolves to a loopback address: 127.0.0.1; using 172.16.5.4 instead (on interface eth0)\n",
      "24/05/02 20:00:12 WARN Utils: Set SPARK_LOCAL_IP if you need to bind to another address\n",
      "Setting default log level to \"WARN\".\n",
      "To adjust logging level use sc.setLogLevel(newLevel). For SparkR, use setLogLevel(newLevel).\n",
      "24/05/02 20:00:13 WARN NativeCodeLoader: Unable to load native-hadoop library for your platform... using builtin-java classes where applicable\n"
     ]
    }
   ],
   "source": [
    "spark = (\n",
    "    SparkSession\n",
    "    .builder\n",
    "    .appName(\"video Game Sales Analysis dev-mode\") \n",
    "    .master(\"local[*]\")\n",
    "    .config(\"spark.sql.adaptive.enabled\", \"true\") \n",
    "    # .config(\"spark.sql.shuffle.partitions\", \"8\") \n",
    "    .getOrCreate()\n",
    ")"
   ]
  },
  {
   "cell_type": "code",
   "execution_count": 5,
   "id": "5d302894",
   "metadata": {},
   "outputs": [
    {
     "name": "stdout",
     "output_type": "stream",
     "text": [
      "2\n"
     ]
    },
    {
     "name": "stderr",
     "output_type": "stream",
     "text": [
      "24/05/02 20:00:27 WARN GarbageCollectionMetrics: To enable non-built-in garbage collector(s) List(G1 Concurrent GC), users should configure it(them) to spark.eventLog.gcMetrics.youngGenerationGarbageCollectors or spark.eventLog.gcMetrics.oldGenerationGarbageCollectors\n"
     ]
    }
   ],
   "source": [
    "print(spark.sparkContext.defaultParallelism)"
   ]
  },
  {
   "cell_type": "code",
   "execution_count": 8,
   "id": "43d1155d",
   "metadata": {},
   "outputs": [],
   "source": [
    "vg_sales_df = (\n",
    "    spark.read\n",
    "    .option(\"header\", \"true\")\n",
    "    .csv(\"../input_data/vgsales.csv\")\n",
    ")"
   ]
  },
  {
   "cell_type": "code",
   "execution_count": 9,
   "id": "57c8ac02",
   "metadata": {},
   "outputs": [
    {
     "name": "stdout",
     "output_type": "stream",
     "text": [
      "+----+--------------------+--------+----+------------+---------+--------+--------+--------+-----------+------------+\n",
      "|Rank|                Name|Platform|Year|       Genre|Publisher|NA_Sales|EU_Sales|JP_Sales|Other_Sales|Global_Sales|\n",
      "+----+--------------------+--------+----+------------+---------+--------+--------+--------+-----------+------------+\n",
      "|   1|          Wii Sports|     Wii|2006|      Sports| Nintendo|   41.49|   29.02|    3.77|       8.46|       82.74|\n",
      "|   2|   Super Mario Bros.|     NES|1985|    Platform| Nintendo|   29.08|    3.58|    6.81|       0.77|       40.24|\n",
      "|   3|      Mario Kart Wii|     Wii|2008|      Racing| Nintendo|   15.85|   12.88|    3.79|       3.31|       35.82|\n",
      "|   4|   Wii Sports Resort|     Wii|2009|      Sports| Nintendo|   15.75|   11.01|    3.28|       2.96|          33|\n",
      "|   5|Pokemon Red/Pokem...|      GB|1996|Role-Playing| Nintendo|   11.27|    8.89|   10.22|          1|       31.37|\n",
      "+----+--------------------+--------+----+------------+---------+--------+--------+--------+-----------+------------+\n",
      "only showing top 5 rows\n",
      "\n"
     ]
    }
   ],
   "source": [
    "vg_sales_df.show(5)"
   ]
  },
  {
   "cell_type": "code",
   "execution_count": 10,
   "id": "147690bf",
   "metadata": {},
   "outputs": [
    {
     "data": {
      "text/plain": [
       "16598"
      ]
     },
     "execution_count": 10,
     "metadata": {},
     "output_type": "execute_result"
    }
   ],
   "source": [
    "vg_sales_df.count()"
   ]
  },
  {
   "cell_type": "code",
   "execution_count": 11,
   "id": "44bf3ba2",
   "metadata": {},
   "outputs": [
    {
     "data": {
      "text/plain": [
       "<bound method DataFrame.printSchema of DataFrame[Rank: string, Name: string, Platform: string, Year: string, Genre: string, Publisher: string, NA_Sales: string, EU_Sales: string, JP_Sales: string, Other_Sales: string, Global_Sales: string]>"
      ]
     },
     "execution_count": 11,
     "metadata": {},
     "output_type": "execute_result"
    }
   ],
   "source": [
    "vg_sales_df.printSchema"
   ]
  },
  {
   "cell_type": "markdown",
   "id": "7434e99d",
   "metadata": {},
   "source": [
    "## Easy Level"
   ]
  },
  {
   "cell_type": "code",
   "execution_count": 15,
   "id": "7e8cf122",
   "metadata": {},
   "outputs": [
    {
     "name": "stdout",
     "output_type": "stream",
     "text": [
      "+--------+\n",
      "|Platform|\n",
      "+--------+\n",
      "|     3DO|\n",
      "|      PC|\n",
      "|     PS3|\n",
      "|     NES|\n",
      "|      PS|\n",
      "|      DC|\n",
      "|     GEN|\n",
      "|     PS2|\n",
      "|     3DS|\n",
      "|    PCFX|\n",
      "|      GG|\n",
      "|    WiiU|\n",
      "|    SNES|\n",
      "|      GB|\n",
      "|     SCD|\n",
      "|     N64|\n",
      "|     PS4|\n",
      "|     PSP|\n",
      "|    2600|\n",
      "|    XOne|\n",
      "+--------+\n",
      "only showing top 20 rows\n",
      "\n"
     ]
    },
    {
     "data": {
      "text/plain": [
       "31"
      ]
     },
     "execution_count": 15,
     "metadata": {},
     "output_type": "execute_result"
    }
   ],
   "source": [
    "# Find the number of unique platforms in the dataset.\n",
    "unique_platforms_df = (\n",
    "    vg_sales_df\n",
    "    .select('Platform')\n",
    "    .distinct()\n",
    ")\n",
    "\n",
    "unique_platforms_df.show()\n",
    "unique_platforms_df.count()"
   ]
  },
  {
   "cell_type": "code",
   "execution_count": 21,
   "id": "4c3ac601",
   "metadata": {},
   "outputs": [
    {
     "name": "stdout",
     "output_type": "stream",
     "text": [
      "+------------------+\n",
      "|Total_Global_Sales|\n",
      "+------------------+\n",
      "| 8920.440000001283|\n",
      "+------------------+\n",
      "\n"
     ]
    }
   ],
   "source": [
    "# Calculate the total global sales.\n",
    "global_sales_df = (\n",
    "    vg_sales_df\n",
    "    .agg(f.sum('Global_Sales').alias('Total_Global_Sales'))\n",
    ")\n",
    "\n",
    "global_sales_df.show()"
   ]
  },
  {
   "cell_type": "code",
   "execution_count": 23,
   "id": "7c9c6fd8",
   "metadata": {},
   "outputs": [
    {
     "name": "stdout",
     "output_type": "stream",
     "text": [
      "+--------------------+----------+\n",
      "|           Publisher|game_count|\n",
      "+--------------------+----------+\n",
      "|     Electronic Arts|      1351|\n",
      "|          Activision|       975|\n",
      "|  Namco Bandai Games|       932|\n",
      "|             Ubisoft|       921|\n",
      "|Konami Digital En...|       832|\n",
      "+--------------------+----------+\n",
      "\n"
     ]
    }
   ],
   "source": [
    "# Find the top 5 publishers with the highest number of games.\n",
    "\n",
    "top_5_pub_df = (\n",
    "    vg_sales_df\n",
    "    .groupBy('Publisher')\n",
    "    .agg(f.count('Name').alias(\"game_count\"))\n",
    "    .orderBy(f.desc('game_count'))\n",
    "    .limit(5)\n",
    ")\n",
    "\n",
    "top_5_pub_df.show()"
   ]
  },
  {
   "cell_type": "markdown",
   "id": "7f19f64f",
   "metadata": {},
   "source": [
    "## Medium Level"
   ]
  },
  {
   "cell_type": "code",
   "execution_count": null,
   "id": "3c0daa90",
   "metadata": {},
   "outputs": [],
   "source": []
  }
 ],
 "metadata": {
  "kernelspec": {
   "display_name": "Python 3 (ipykernel)",
   "language": "python",
   "name": "python3"
  },
  "language_info": {
   "codemirror_mode": {
    "name": "ipython",
    "version": 3
   },
   "file_extension": ".py",
   "mimetype": "text/x-python",
   "name": "python",
   "nbconvert_exporter": "python",
   "pygments_lexer": "ipython3",
   "version": "3.11.5"
  }
 },
 "nbformat": 4,
 "nbformat_minor": 5
}

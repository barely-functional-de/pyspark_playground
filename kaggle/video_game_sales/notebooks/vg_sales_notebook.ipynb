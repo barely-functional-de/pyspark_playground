{
 "cells": [
  {
   "cell_type": "code",
   "execution_count": 19,
   "id": "31ffe0a6",
   "metadata": {},
   "outputs": [],
   "source": [
    "import pyspark\n",
    "from pyspark.sql import SparkSession\n",
    "from pyspark.sql import functions as f"
   ]
  },
  {
   "cell_type": "code",
   "execution_count": 2,
   "id": "a28eccf5",
   "metadata": {},
   "outputs": [
    {
     "data": {
      "text/plain": [
       "'3.5.1'"
      ]
     },
     "execution_count": 2,
     "metadata": {},
     "output_type": "execute_result"
    }
   ],
   "source": [
    "pyspark.__version__"
   ]
  },
  {
   "cell_type": "code",
   "execution_count": 4,
   "id": "d0eba950",
   "metadata": {},
   "outputs": [
    {
     "name": "stderr",
     "output_type": "stream",
     "text": [
      "24/05/02 20:00:12 WARN Utils: Your hostname, codespaces-0d4183 resolves to a loopback address: 127.0.0.1; using 172.16.5.4 instead (on interface eth0)\n",
      "24/05/02 20:00:12 WARN Utils: Set SPARK_LOCAL_IP if you need to bind to another address\n",
      "Setting default log level to \"WARN\".\n",
      "To adjust logging level use sc.setLogLevel(newLevel). For SparkR, use setLogLevel(newLevel).\n",
      "24/05/02 20:00:13 WARN NativeCodeLoader: Unable to load native-hadoop library for your platform... using builtin-java classes where applicable\n"
     ]
    }
   ],
   "source": [
    "spark = (\n",
    "    SparkSession\n",
    "    .builder\n",
    "    .appName(\"video Game Sales Analysis dev-mode\") \n",
    "    .master(\"local[*]\")\n",
    "    .config(\"spark.sql.adaptive.enabled\", \"true\") \n",
    "    # .config(\"spark.sql.shuffle.partitions\", \"8\") \n",
    "    .getOrCreate()\n",
    ")"
   ]
  },
  {
   "cell_type": "code",
   "execution_count": 5,
   "id": "864d0779",
   "metadata": {},
   "outputs": [
    {
     "name": "stdout",
     "output_type": "stream",
     "text": [
      "2\n"
     ]
    },
    {
     "name": "stderr",
     "output_type": "stream",
     "text": [
      "24/05/02 20:00:27 WARN GarbageCollectionMetrics: To enable non-built-in garbage collector(s) List(G1 Concurrent GC), users should configure it(them) to spark.eventLog.gcMetrics.youngGenerationGarbageCollectors or spark.eventLog.gcMetrics.oldGenerationGarbageCollectors\n"
     ]
    }
   ],
   "source": [
    "print(spark.sparkContext.defaultParallelism)"
   ]
  },
  {
   "cell_type": "code",
   "execution_count": 8,
   "id": "e2cd5c56",
   "metadata": {},
   "outputs": [],
   "source": [
    "vg_sales_df = (\n",
    "    spark.read\n",
    "    .option(\"header\", \"true\")\n",
    "    .csv(\"../input_data/vgsales.csv\")\n",
    ")"
   ]
  },
  {
   "cell_type": "code",
   "execution_count": 9,
   "id": "e65292d4",
   "metadata": {},
   "outputs": [
    {
     "name": "stdout",
     "output_type": "stream",
     "text": [
      "+----+--------------------+--------+----+------------+---------+--------+--------+--------+-----------+------------+\n",
      "|Rank|                Name|Platform|Year|       Genre|Publisher|NA_Sales|EU_Sales|JP_Sales|Other_Sales|Global_Sales|\n",
      "+----+--------------------+--------+----+------------+---------+--------+--------+--------+-----------+------------+\n",
      "|   1|          Wii Sports|     Wii|2006|      Sports| Nintendo|   41.49|   29.02|    3.77|       8.46|       82.74|\n",
      "|   2|   Super Mario Bros.|     NES|1985|    Platform| Nintendo|   29.08|    3.58|    6.81|       0.77|       40.24|\n",
      "|   3|      Mario Kart Wii|     Wii|2008|      Racing| Nintendo|   15.85|   12.88|    3.79|       3.31|       35.82|\n",
      "|   4|   Wii Sports Resort|     Wii|2009|      Sports| Nintendo|   15.75|   11.01|    3.28|       2.96|          33|\n",
      "|   5|Pokemon Red/Pokem...|      GB|1996|Role-Playing| Nintendo|   11.27|    8.89|   10.22|          1|       31.37|\n",
      "+----+--------------------+--------+----+------------+---------+--------+--------+--------+-----------+------------+\n",
      "only showing top 5 rows\n",
      "\n"
     ]
    }
   ],
   "source": [
    "vg_sales_df.show(5)"
   ]
  },
  {
   "cell_type": "code",
   "execution_count": 10,
   "id": "2a13f531",
   "metadata": {},
   "outputs": [
    {
     "data": {
      "text/plain": [
       "16598"
      ]
     },
     "execution_count": 10,
     "metadata": {},
     "output_type": "execute_result"
    }
   ],
   "source": [
    "vg_sales_df.count()"
   ]
  },
  {
   "cell_type": "code",
   "execution_count": 11,
   "id": "030b5b4f",
   "metadata": {},
   "outputs": [
    {
     "data": {
      "text/plain": [
       "<bound method DataFrame.printSchema of DataFrame[Rank: string, Name: string, Platform: string, Year: string, Genre: string, Publisher: string, NA_Sales: string, EU_Sales: string, JP_Sales: string, Other_Sales: string, Global_Sales: string]>"
      ]
     },
     "execution_count": 11,
     "metadata": {},
     "output_type": "execute_result"
    }
   ],
   "source": [
    "vg_sales_df.printSchema"
   ]
  },
  {
   "cell_type": "markdown",
   "id": "978355ff",
   "metadata": {},
   "source": [
    "## Easy Level"
   ]
  },
  {
   "cell_type": "code",
   "execution_count": 15,
   "id": "a11eeaf1",
   "metadata": {},
   "outputs": [
    {
     "name": "stdout",
     "output_type": "stream",
     "text": [
      "+--------+\n",
      "|Platform|\n",
      "+--------+\n",
      "|     3DO|\n",
      "|      PC|\n",
      "|     PS3|\n",
      "|     NES|\n",
      "|      PS|\n",
      "|      DC|\n",
      "|     GEN|\n",
      "|     PS2|\n",
      "|     3DS|\n",
      "|    PCFX|\n",
      "|      GG|\n",
      "|    WiiU|\n",
      "|    SNES|\n",
      "|      GB|\n",
      "|     SCD|\n",
      "|     N64|\n",
      "|     PS4|\n",
      "|     PSP|\n",
      "|    2600|\n",
      "|    XOne|\n",
      "+--------+\n",
      "only showing top 20 rows\n",
      "\n"
     ]
    },
    {
     "data": {
      "text/plain": [
       "31"
      ]
     },
     "execution_count": 15,
     "metadata": {},
     "output_type": "execute_result"
    }
   ],
   "source": [
    "# Find the number of unique platforms in the dataset.\n",
    "unique_platforms_df = (\n",
    "    vg_sales_df\n",
    "    .select('Platform')\n",
    "    .distinct()\n",
    ")\n",
    "\n",
    "unique_platforms_df.show()\n",
    "unique_platforms_df.count()"
   ]
  },
  {
   "cell_type": "code",
   "execution_count": 21,
   "id": "ca1de09e",
   "metadata": {},
   "outputs": [
    {
     "name": "stdout",
     "output_type": "stream",
     "text": [
      "+------------------+\n",
      "|Total_Global_Sales|\n",
      "+------------------+\n",
      "| 8920.440000001283|\n",
      "+------------------+\n",
      "\n"
     ]
    }
   ],
   "source": [
    "# Calculate the total global sales.\n",
    "global_sales_df = (\n",
    "    vg_sales_df\n",
    "    .agg(f.sum('Global_Sales').alias('Total_Global_Sales'))\n",
    ")\n",
    "\n",
    "global_sales_df.show()"
   ]
  },
  {
   "cell_type": "code",
   "execution_count": 23,
   "id": "23c1fb5a",
   "metadata": {},
   "outputs": [
    {
     "name": "stdout",
     "output_type": "stream",
     "text": [
      "+--------------------+----------+\n",
      "|           Publisher|game_count|\n",
      "+--------------------+----------+\n",
      "|     Electronic Arts|      1351|\n",
      "|          Activision|       975|\n",
      "|  Namco Bandai Games|       932|\n",
      "|             Ubisoft|       921|\n",
      "|Konami Digital En...|       832|\n",
      "+--------------------+----------+\n",
      "\n"
     ]
    }
   ],
   "source": [
    "# Find the top 5 publishers with the highest number of games.\n",
    "\n",
    "top_5_pub_df = (\n",
    "    vg_sales_df\n",
    "    .groupBy('Publisher')\n",
    "    .agg(f.count('Name').alias(\"game_count\"))\n",
    "    .orderBy(f.desc('game_count'))\n",
    "    .limit(5)\n",
    ")\n",
    "\n",
    "top_5_pub_df.show()"
   ]
  },
  {
   "cell_type": "markdown",
   "id": "7721f7e9",
   "metadata": {},
   "source": [
    "## Medium Level"
   ]
  },
  {
   "cell_type": "code",
   "execution_count": 28,
   "id": "ab3c52d4",
   "metadata": {},
   "outputs": [
    {
     "name": "stdout",
     "output_type": "stream",
     "text": [
      "+----+--------------------+\n",
      "|Year|   avg(Global_Sales)|\n",
      "+----+--------------------+\n",
      "| N/A| 0.36929889298892965|\n",
      "|2020|                0.29|\n",
      "|2017|0.016666666666666666|\n",
      "|2016| 0.20619186046511667|\n",
      "|2015| 0.43068403908794456|\n",
      "|2014|  0.5791237113402036|\n",
      "|2013|  0.6741941391941367|\n",
      "|2012|  0.5533333333333309|\n",
      "|2011|  0.4530201931518849|\n",
      "|2010|   0.476926131850671|\n",
      "|2009|  0.4663172606568796|\n",
      "|2008| 0.47542016806722354|\n",
      "|2007|  0.5084276206322741|\n",
      "|2006|  0.5169047619047537|\n",
      "|2005|  0.4887778958554704|\n",
      "|2004|  0.5495543905635631|\n",
      "|2003| 0.46174193548386955|\n",
      "|2002| 0.47710494571773016|\n",
      "|2001|  0.6876970954356828|\n",
      "|2000|  0.5775358166189117|\n",
      "+----+--------------------+\n",
      "only showing top 20 rows\n",
      "\n"
     ]
    }
   ],
   "source": [
    "# Calculate the average global sales for each year.\n",
    "avg_global_sales_per_year_df = (\n",
    "    vg_sales_df\n",
    "    .groupBy(\"Year\")\n",
    "    .agg({\"Global_Sales\":\"avg\"})\n",
    "    .orderBy(f.desc('Year'))\n",
    ")\n",
    "\n",
    "avg_global_sales_per_year_df.show()"
   ]
  },
  {
   "cell_type": "code",
   "execution_count": 29,
   "id": "56c36723",
   "metadata": {},
   "outputs": [
    {
     "name": "stdout",
     "output_type": "stream",
     "text": [
      "+--------+------------------+\n",
      "|Platform|  avg_global_sales|\n",
      "+--------+------------------+\n",
      "|      GB| 2.606632653061223|\n",
      "|     NES|2.5619387755102028|\n",
      "|     GEN|1.0503703703703704|\n",
      "|    SNES|0.8370292887029299|\n",
      "|     PS4|0.8276785714285696|\n",
      "+--------+------------------+\n",
      "\n"
     ]
    }
   ],
   "source": [
    "# Find the platform with the highest average sales.\n",
    "platform_with_highest_avg_sales = (\n",
    "    vg_sales_df\n",
    "    .groupBy('Platform')\n",
    "    .agg({\"Global_Sales\":\"avg\"})\n",
    "    .withColumnRenamed('avg(Global_Sales)', 'avg_global_sales')\n",
    "    .orderBy(f.desc('avg_global_sales'))\n",
    "    .limit(5)\n",
    ")\n",
    "platform_with_highest_avg_sales.show()"
   ]
  },
  {
   "cell_type": "code",
   "execution_count": 40,
   "id": "241af498",
   "metadata": {},
   "outputs": [
    {
     "name": "stdout",
     "output_type": "stream",
     "text": [
      "+---------------+--------+--------+--------+-----------+-----------+\n",
      "|      Publisher|NA_Sales|EU_Sales|JP_Sales|Other_Sales|Total_Sales|\n",
      "+---------------+--------+--------+--------+-----------+-----------+\n",
      "|       Nintendo|  816.87|  418.74|  455.42|      95.33|    1786.36|\n",
      "|Electronic Arts|  595.07|  371.27|   14.04|     129.77|    1110.15|\n",
      "|     Activision|   429.7|  215.53|    6.54|      75.34|     727.11|\n",
      "+---------------+--------+--------+--------+-----------+-----------+\n",
      "\n"
     ]
    }
   ],
   "source": [
    "# Determine the total sales for each region (NA, EU, JP, Other) for the top 3 publishers.\n",
    "total_sales_for_each_region_df = (\n",
    "    vg_sales_df\n",
    "    .groupBy('Publisher')\n",
    "    .agg(f.round(f.sum(\"NA_Sales\"), 2).alias(\"NA_Sales\"),\n",
    "         f.round(f.sum(\"EU_Sales\"), 2).alias(\"EU_Sales\"),\n",
    "         f.round(f.sum(\"JP_Sales\"), 2).alias(\"JP_Sales\"),\n",
    "         f.round(f.sum(\"Other_Sales\"), 2).alias(\"Other_Sales\")\n",
    "        )\n",
    "    .withColumn('Total_Sales',\n",
    "                f.round(f.col(\"NA_Sales\") + f.col(\"EU_Sales\") + f.col(\"JP_Sales\") + f.col(\"Other_Sales\"), 2)\n",
    "               )\n",
    "    .orderBy(f.desc(\"Total_Sales\"))\n",
    "    .limit(3)\n",
    ")\n",
    "total_sales_for_each_region_df.show()"
   ]
  },
  {
   "cell_type": "code",
   "execution_count": 42,
   "id": "bc6d3170",
   "metadata": {},
   "outputs": [
    {
     "name": "stdout",
     "output_type": "stream",
     "text": [
      "+---------------+--------+--------+--------+-----------+-----------+-----+-----+-----+-----+\n",
      "|      Publisher|NA_Sales|EU_Sales|JP_Sales|Other_Sales|Total_Sales| NA_%| EU_%| JP_%|OTH_%|\n",
      "+---------------+--------+--------+--------+-----------+-----------+-----+-----+-----+-----+\n",
      "|       Nintendo|  816.87|  418.74|  455.42|      95.33|    1786.36|45.73|23.44|25.49| 5.34|\n",
      "|Electronic Arts|  595.07|  371.27|   14.04|     129.77|    1110.15| 53.6|33.44| 1.26|11.69|\n",
      "|     Activision|   429.7|  215.53|    6.54|      75.34|     727.11| 59.1|29.64|  0.9|10.36|\n",
      "+---------------+--------+--------+--------+-----------+-----------+-----+-----+-----+-----+\n",
      "\n"
     ]
    }
   ],
   "source": [
    "# Calculate the percentage of sales contributed by each region to the global sales.\n",
    "\n",
    "percent_contributed_by_each_region_df = (\n",
    "    total_sales_for_each_region_df\n",
    "    .withColumn('NA_%', f.round(f.col('NA_Sales')/f.col('Total_Sales')*100, 2))\n",
    "    .withColumn('EU_%', f.round(f.col('EU_Sales')/f.col('Total_Sales')*100, 2))\n",
    "    .withColumn('JP_%', f.round(f.col('JP_Sales')/f.col('Total_Sales')*100 ,2))\n",
    "    .withColumn('OTH_%', f.round(f.col('Other_Sales')/f.col('Total_Sales')*100, 2))\n",
    ")\n",
    "\n",
    "percent_contributed_by_each_region_df.show()"
   ]
  },
  {
   "cell_type": "code",
   "execution_count": null,
   "id": "a3c786d6",
   "metadata": {},
   "outputs": [],
   "source": []
  }
 ],
 "metadata": {
  "kernelspec": {
   "display_name": "Python 3 (ipykernel)",
   "language": "python",
   "name": "python3"
  },
  "language_info": {
   "codemirror_mode": {
    "name": "ipython",
    "version": 3
   },
   "file_extension": ".py",
   "mimetype": "text/x-python",
   "name": "python",
   "nbconvert_exporter": "python",
   "pygments_lexer": "ipython3",
   "version": "3.11.5"
  }
 },
 "nbformat": 4,
 "nbformat_minor": 5
}
